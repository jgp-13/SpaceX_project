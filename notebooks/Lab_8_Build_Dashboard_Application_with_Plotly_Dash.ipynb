{
 "cells": [
  {
   "cell_type": "markdown",
   "id": "ee106a92",
   "metadata": {},
   "source": [
    "<p style=\"text-align:center\">\n",
    "    <a href=\"https://skills.network/?utm_medium=Exinfluencer&utm_source=Exinfluencer&utm_content=000026UJ&utm_term=10006555&utm_id=NA-SkillsNetwork-Channel-SkillsNetworkCoursesIBMDS0321ENSkillsNetwork26802033-2022-01-01\" target=\"_blank\">\n",
    "    <img src=\"https://cf-courses-data.s3.us.cloud-object-storage.appdomain.cloud/assets/logos/SN_web_lightmode.png\" width=\"200\" alt=\"Skills Network Logo\"  />\n",
    "    </a>\n",
    "</p>\n"
   ]
  },
  {
   "cell_type": "markdown",
   "id": "8da0b672",
   "metadata": {},
   "source": [
    "# **Build a Dashboard Application with Plotly Dash**"
   ]
  },
  {
   "cell_type": "markdown",
   "id": "e8a14f5c",
   "metadata": {},
   "source": [
    "In this lab, you will be building a `Plotly Dash` application for users to perform interactive visual analytics on SpaceX launch data in real-time.\n",
    "\n",
    "This dashboard application contains input components such as a dropdown list and a range slider to interact with a pie chart and a scatter point chart. You will be guided to build this dashboard application via the following tasks:"
   ]
  },
  {
   "cell_type": "markdown",
   "id": "1d0b2b76",
   "metadata": {},
   "source": [
    "*  **TASK 1:** Add a Launch Site Drop-down Input Component\n",
    "*  **TASK 2:** Add a callback function to render `success-pie-chart` based on selected site dropdown\n",
    "*  **TASK 3:** Add a Range Slider to Select Payload\n",
    "*  **TASK 4:** Add a callback function to render the `success-payload-scatter-chart` scatter plot"
   ]
  },
  {
   "cell_type": "markdown",
   "id": "331cf96d",
   "metadata": {},
   "source": [
    "After visual analysis using the dashboard, you should be able to obtain some insights to answer the following five questions:\n",
    "\n",
    "1. Which site has the largest successful launches?\n",
    "2. Which site has the highest launch success rate?\n",
    "3. Which payload range(s) has the highest launch success rate?\n",
    "4. Which payload range(s) has the lowest launch success rate?\n",
    "5. Which F9 Booster version (`v1.0`, `v1.1`, `FT`, `B4`, `B5`, etc.) has the highest launch success rate?"
   ]
  },
  {
   "cell_type": "markdown",
   "id": "f45a6038",
   "metadata": {},
   "source": [
    "Let's first import required Python packages for this lab:"
   ]
  },
  {
   "cell_type": "code",
   "execution_count": 1,
   "id": "f79e06fc",
   "metadata": {
    "scrolled": false
   },
   "outputs": [],
   "source": [
    "import pandas as pd\n",
    "import dash\n",
    "#import dash_html_components as html\n",
    "from dash import html\n",
    "#import dash_core_components as dcc\n",
    "from dash import dcc\n",
    "from dash.dependencies import Input, Output\n",
    "import plotly.express as px\n",
    "import wget"
   ]
  },
  {
   "cell_type": "markdown",
   "id": "c71ab4f3",
   "metadata": {},
   "source": [
    "Let's get the SpaceX Launch dataset for this lab:\n",
    "\n",
    "Run the following wget command line in the terminal to download dataset as `spacex_launch_dash.csv` "
   ]
  },
  {
   "cell_type": "code",
   "execution_count": 2,
   "id": "1ac63511",
   "metadata": {},
   "outputs": [
    {
     "name": "stdout",
     "output_type": "stream",
     "text": [
      "\r",
      "  0% [                                                                                ]    0 / 2476\r",
      "100% [................................................................................] 2476 / 2476"
     ]
    }
   ],
   "source": [
    "spacex_launch_dash_file=wget.download( \"https://cf-courses-data.s3.us.cloud-object-storage.appdomain.cloud/IBM-DS0321EN-SkillsNetwork/datasets/spacex_launch_dash.csv\")"
   ]
  },
  {
   "cell_type": "markdown",
   "id": "414e7b92",
   "metadata": {},
   "source": [
    "Create the DataFrame `spacex_df` with a `read_csv` command "
   ]
  },
  {
   "cell_type": "code",
   "execution_count": 3,
   "id": "34e3304a",
   "metadata": {},
   "outputs": [],
   "source": [
    "# Read the airline data into pandas dataframe\n",
    "spacex_df = pd.read_csv(spacex_launch_dash_file)\n",
    "max_payload = spacex_df['Payload Mass (kg)'].max()\n",
    "min_payload = spacex_df['Payload Mass (kg)'].min()"
   ]
  },
  {
   "cell_type": "markdown",
   "id": "05293635",
   "metadata": {},
   "source": [
    "Create a dash application"
   ]
  },
  {
   "cell_type": "code",
   "execution_count": 4,
   "id": "9dbb379f",
   "metadata": {},
   "outputs": [],
   "source": [
    "app = dash.Dash(__name__)"
   ]
  },
  {
   "cell_type": "markdown",
   "id": "6dc66dcc",
   "metadata": {},
   "source": [
    "## TASK 1: Add a Launch Site Drop-down Input Component"
   ]
  },
  {
   "cell_type": "markdown",
   "id": "3a3240a9",
   "metadata": {},
   "source": [
    "We have four different launch sites and we would like to first see which one has the largest success count. Then, we would like to select one specific site and check its detailed success rate (class=0 vs. class=1)."
   ]
  },
  {
   "cell_type": "markdown",
   "id": "888fc84c",
   "metadata": {},
   "source": [
    "As such, we will need a dropdown menu to let us select different launch sites."
   ]
  },
  {
   "cell_type": "markdown",
   "id": "16ffbdfc",
   "metadata": {},
   "source": [
    "*  Find and complete a commented `dcc.Dropdown(id='site-dropdown',...)` input with following attributes:\n",
    "\n",
    "  *   `id` attribute with value `site-dropdown` \n",
    "  *   `options` attribute is a list of dict-like option objects (with `label` and `value` attributes). You can set the `label` and `value` all to be the launch site names in the `spacex_df` and you need to include the default `All` option. e.g., `options=[{'label': 'All Sites', 'value': 'ALL'},{'label': 'site1', 'value': 'site1'}, ...]`\n",
    "  *   `value` attribute with default dropdown value to be `ALL` meaning all sites are selected\n",
    "  *   `placeholder` attribute to show a text description about this input area, such as `Select a Launch Site here`\n",
    "  *   `searchable` attribute to be True so we can enter keywords to search launch sites"
   ]
  },
  {
   "cell_type": "markdown",
   "id": "15692cc1",
   "metadata": {},
   "source": [
    "## TASK 2: Add a callback function to render `success-pie-chart` based on selected site dropdown"
   ]
  },
  {
   "cell_type": "markdown",
   "id": "a0121056",
   "metadata": {},
   "source": [
    "The general idea of this callback function is to get the selected launch site from `site-dropdown` and render a pie chart visualizing launch success counts.\n",
    "\n",
    "Dash callback function is a type of Python function which will be automatically called by Dash whenever receiving an input component updates, such as a click or dropdown selecting event."
   ]
  },
  {
   "cell_type": "markdown",
   "id": "ba1cd272",
   "metadata": {},
   "source": [
    "## TASK 3: Add a Range Slider to Select Payload"
   ]
  },
  {
   "cell_type": "markdown",
   "id": "2abee971",
   "metadata": {},
   "source": [
    "Next, we want to find if variable payload is correlated to mission outcome. From a dashboard point of view, we want to be able to easily select different payload range and see if we can identify some visual patterns.\n",
    "\n",
    "Find and complete a commented `dcc.RangeSlider(id='payload-slider',...)` input with the following attribute:"
   ]
  },
  {
   "cell_type": "markdown",
   "id": "12b2372f",
   "metadata": {},
   "source": [
    "* `id` to be `payload-slider`\n",
    "* `min` indicating the slider starting point, we set its value to be 0 (Kg)\n",
    "* `max` indicating the slider ending point to, we set its value to be 10000 (Kg)\n",
    "* `step` indicating the slider interval on the slider, we set its value to be 1000 (Kg)\n",
    "* `value` indicating the current selected range, we could set it to be `min_payload` and `max_payload`"
   ]
  },
  {
   "cell_type": "code",
   "execution_count": 5,
   "id": "eb42275f",
   "metadata": {},
   "outputs": [],
   "source": [
    "# Create an app layout\n",
    "app.layout = html.Div(children=[html.H1('SpaceX Launch Records Dashboard',\n",
    "                                        style={'textAlign': 'center', 'color': '#503D36',\n",
    "                                               'font-size': 40}\n",
    "                                        ),\n",
    "                                # TASK 1: Add a dropdown list to enable Launch Site selection\n",
    "                                # The default select value is for ALL sites\n",
    "                                dcc.Dropdown(\n",
    "                                    id='site-dropdown',\n",
    "                                    options = [\n",
    "                                        {'label': 'All Sites', 'value': 'ALL'},\n",
    "                                        {'label': 'CCAFS LC-40', 'value': 'CCAFS LC-40'},\n",
    "                                        {'label': 'CCAFS SLC-40', 'value': 'CCAFS SLC-40'},\n",
    "                                        {'label': 'KSC LC-39A1', 'value': 'KSC LC-39A'},\n",
    "                                        {'label': 'VAFB SLC-4E', 'value': 'VAFB SLC-4E'},],\n",
    "                                    value= 'ALL',\n",
    "                                    placeholder = 'Select a Launch Site',\n",
    "                                    searchable= True),\n",
    "                                html.Br(),\n",
    "\n",
    "                                # TASK 2: Add a pie chart to show the total successful launches count for all sites\n",
    "                                # If a specific launch site was selected, show the Success vs. Failed counts for the site\n",
    "                                html.Div(dcc.Graph(id='success-pie-chart')),\n",
    "                                html.Br(),\n",
    "\n",
    "                                # TASK 3: Add a slider to select payload range\n",
    "                                html.P(\"Payload range (Kg):\"),\n",
    "                                dcc.RangeSlider(\n",
    "                                    id='payload-slider',\n",
    "                                    min=0,max=10000, \n",
    "                                    step=1000,\n",
    "                                    value=[min_payload,max_payload+10],\n",
    "                                    marks={0:'0',\n",
    "                                        2000:'2000',\n",
    "                                        4000:'4000',\n",
    "                                        6000:'6000',\n",
    "                                        8000:'8000',\n",
    "                                        10000:'10000'},\n",
    "                                    allowCross=False,),\n",
    "                                html.Br(),\n",
    "                                # TASK 4: Add a scatter chart to show the correlation between payload and launch success\n",
    "                                html.P(\"Scatter plot\"),\n",
    "                                html.Div(dcc.Graph(id='success-payload-scatter-chart')),\n",
    "                                ])"
   ]
  },
  {
   "cell_type": "markdown",
   "id": "713ec8b1",
   "metadata": {},
   "source": [
    "Let's add a callback function in `spacex_dash_app.py` including the following application logic:\n",
    "\n",
    "*  Input is set to be the site-dropdown dropdown, i.e., Input(component_id='site-dropdown', component_property='value')\n",
    "*  Output to be the graph with id success-pie-chart, i.e., Output(component_id='success-pie-chart', component_property='figure')\n",
    "*  A If-Else statement to check if ALL sites were selected or just a specific launch site was selected\n",
    "    *  If ALL sites are selected, we will use all rows in the dataframe spacex_df to render and return a pie chart graph to show the total success launches (i.e., the total count of class column)\n",
    "    *  If a specific launch site is selected, you need to filter the dataframe spacex_df first in order to include the only data for the selected site. \n",
    "Then, render and return a pie chart graph to show the success (class=1) count and failed (class=0) count for the selected site."
   ]
  },
  {
   "cell_type": "code",
   "execution_count": 6,
   "id": "8bbffb10",
   "metadata": {},
   "outputs": [],
   "source": [
    "# TASK 2:\n",
    "# Add a callback function for `site-dropdown` as input, `success-pie-chart` as output\n",
    "@app.callback(Output(component_id='success-pie-chart', component_property='figure'),\n",
    "              Input(component_id='site-dropdown', component_property='value'))\n",
    "\n",
    "def get_pie_chart(entered_site):\n",
    "    filtered_df = spacex_df\n",
    "    if entered_site == 'ALL':\n",
    "        fig = px.pie(filtered_df, values='class', \n",
    "        names='Launch Site', \n",
    "        title='Total Successful Launches by Site')\n",
    "\n",
    "        return fig\n",
    "    else:\n",
    "        # return the outcomes piechart for a selected site\n",
    "        filtered_df_site = filtered_df[filtered_df['Launch Site'] == entered_site]\n",
    "        class_names = [] # counting failures and success\n",
    "        class_values = [] #for counting\n",
    "        for output in filtered_df_site['class']:\n",
    "            if output == 1: #\n",
    "                class_names.append('Success') #add one success\n",
    "                class_values.append(1) \n",
    "            elif output == 0 :\n",
    "                class_names.append('Failure')\n",
    "                class_values.append(1)\n",
    "        filtered_df_site['class name'] = class_names\n",
    "        filtered_df_site['class value'] = class_values\n",
    "        fig = px.pie(filtered_df_site, values='class value', \n",
    "        names='class name', \n",
    "        title=f'Successful Launch ratio for site {entered_site}',color_discrete_map={'Success':'lightgreen','Failure':'red'})\n",
    "        return fig\n"
   ]
  },
  {
   "cell_type": "markdown",
   "id": "698c6303",
   "metadata": {},
   "source": [
    "## TASK 4: Add a callback function to render the `success-payload-scatter-chart` scatter plot"
   ]
  },
  {
   "cell_type": "markdown",
   "id": "600e444b",
   "metadata": {},
   "source": [
    "Next, we want to plot a scatter plot with the x axis to be the payload and the y axis to be the launch outcome (i.e., `class` column). As such, we can visually observe how payload may be correlated with mission outcomes for selected site(s).\n",
    "\n",
    "In addition, we want to color-label the Booster version on each scatter point so that we may observe mission outcomes with different boosters."
   ]
  },
  {
   "cell_type": "markdown",
   "id": "2a021fa7",
   "metadata": {},
   "source": [
    "Now, let's add a call function including the following application logic:\n",
    "* Input to be `[Input(component_id='site-dropdown', component_property='value'), Input(component_id=\"payload-slider\", component_property=\"value\")]` Note that we have two input components, one to receive selected launch site and another to receive selected payload range\n",
    "* Output to be `Output(component_id='success-payload-scatter-chart', component_property='figure')`\n",
    "* A `If-Else` statement to check if ALL sites were selected or just a specific launch site was selected\n",
    "    * If ALL sites are selected, render a scatter plot to display all values for variable `Payload Mass (kg)` and variable `class`. \n",
    "    *    In addition, the point color needs to be set to the booster version i.e., `color=\"Booster Version Category\"`\n",
    "    * If a specific launch site is selected, you need to filter the `spacex_df first`, and render a scatter chart to show\n",
    "    *    values `Payload Mass (kg)` and `class` for the selected site, and color-label the point using `Boosster Version Category` likewise."
   ]
  },
  {
   "cell_type": "code",
   "execution_count": 7,
   "id": "dddb234e",
   "metadata": {},
   "outputs": [],
   "source": [
    "# TASK 4:\n",
    "# Add a callback function for `site-dropdown` and `payload-slider` as inputs, `success-payload-scatter-chart` as output\n",
    "@app.callback(Output(component_id='success-payload-scatter-chart', component_property='figure'),\n",
    "              [Input(component_id='site-dropdown', component_property='value'),\n",
    "               Input(component_id='payload-slider', component_property='value')])\n",
    "\n",
    "def get_scatter(site,slider_range):\n",
    "    #print(slider_range)\n",
    "    low, high = slider_range\n",
    "    slide=(spacex_df['Payload Mass (kg)'] > low) & (spacex_df['Payload Mass (kg)'] < high)\n",
    "    dropdown_scatter=spacex_df[slide]\n",
    "\n",
    "    if site == 'ALL':\n",
    "        fig = px.scatter(\n",
    "            dropdown_scatter, x='Payload Mass (kg)', y='class',\n",
    "            hover_data=['Booster Version'],\n",
    "            color='Booster Version Category',\n",
    "            title='Correlation between Payload and Success for all Sites')\n",
    "        return fig\n",
    "    else:\n",
    "        dropdown_scatter = dropdown_scatter[spacex_df['Launch Site'] == site]\n",
    "        title_scatter = f'Success by Payload Size for {site}'\n",
    "        fig=px.scatter(\n",
    "            dropdown_scatter,x='Payload Mass (kg)', y='class', \n",
    "            title = title_scatter, \n",
    "            color='Booster Version Category')\n",
    "        return fig\n"
   ]
  },
  {
   "cell_type": "markdown",
   "id": "9255d5e1",
   "metadata": {},
   "source": [
    "## Finding Insights Visually"
   ]
  },
  {
   "cell_type": "markdown",
   "id": "47e7acbb",
   "metadata": {},
   "source": [
    "Now with the dashboard completed, you should be able to use it to analyze SpaceX launch data, and answer the following questions:\n",
    "\n",
    "* Which site has the largest successful launches?\n",
    "* Which site has the highest launch success rate?\n",
    "* Which payload range(s) has the highest launch success rate?\n",
    "* Which payload range(s) has the lowest launch success rate?\n",
    "* Which F9 Booster version (v1.0, v1.1, FT, B4, B5, etc.) has the highest launch success rate?"
   ]
  },
  {
   "cell_type": "markdown",
   "id": "d40f36cd",
   "metadata": {},
   "source": [
    "## Launch the application from the code"
   ]
  },
  {
   "cell_type": "markdown",
   "id": "996bf502",
   "metadata": {},
   "source": [
    "If not, comment the following cell"
   ]
  },
  {
   "cell_type": "code",
   "execution_count": 8,
   "id": "37b59a84",
   "metadata": {},
   "outputs": [
    {
     "name": "stdout",
     "output_type": "stream",
     "text": [
      "Dash is running on http://127.0.0.1:8050/\n",
      "\n",
      " * Serving Flask app '__main__'\n",
      " * Debug mode: off\n"
     ]
    },
    {
     "name": "stderr",
     "output_type": "stream",
     "text": [
      "WARNING: This is a development server. Do not use it in a production deployment. Use a production WSGI server instead.\n",
      " * Running on http://127.0.0.1:8050\n",
      "Press CTRL+C to quit\n",
      "127.0.0.1 - - [03/Dec/2022 21:54:45] \"GET / HTTP/1.1\" 200 -\n",
      "127.0.0.1 - - [03/Dec/2022 21:54:45] \"GET /_dash-layout HTTP/1.1\" 200 -\n",
      "127.0.0.1 - - [03/Dec/2022 21:54:45] \"GET /_dash-dependencies HTTP/1.1\" 200 -\n",
      "127.0.0.1 - - [03/Dec/2022 21:54:45] \"GET /_dash-component-suites/dash/dcc/async-dropdown.js HTTP/1.1\" 304 -\n",
      "127.0.0.1 - - [03/Dec/2022 21:54:45] \"GET /_dash-component-suites/dash/dcc/async-graph.js HTTP/1.1\" 304 -\n",
      "127.0.0.1 - - [03/Dec/2022 21:54:45] \"GET /_dash-component-suites/dash/dcc/async-plotlyjs.js HTTP/1.1\" 304 -\n",
      "127.0.0.1 - - [03/Dec/2022 21:54:45] \"GET /_dash-component-suites/dash/dcc/async-slider.js HTTP/1.1\" 304 -\n",
      "127.0.0.1 - - [03/Dec/2022 21:54:45] \"POST /_dash-update-component HTTP/1.1\" 200 -\n",
      "127.0.0.1 - - [03/Dec/2022 21:54:46] \"POST /_dash-update-component HTTP/1.1\" 200 -\n",
      "127.0.0.1 - - [03/Dec/2022 21:55:02] \"GET / HTTP/1.1\" 200 -\n",
      "127.0.0.1 - - [03/Dec/2022 21:55:02] \"GET /_dash-component-suites/dash/deps/polyfill@7.v2_7_0m1669654056.12.1.min.js HTTP/1.1\" 200 -\n",
      "127.0.0.1 - - [03/Dec/2022 21:55:02] \"GET /_dash-component-suites/dash/deps/react@16.v2_7_0m1669654056.14.0.min.js HTTP/1.1\" 200 -\n",
      "127.0.0.1 - - [03/Dec/2022 21:55:02] \"GET /_dash-component-suites/dash/deps/react-dom@16.v2_7_0m1669654056.14.0.min.js HTTP/1.1\" 200 -\n",
      "127.0.0.1 - - [03/Dec/2022 21:55:02] \"GET /_dash-component-suites/dash/deps/prop-types@15.v2_7_0m1669654056.8.1.min.js HTTP/1.1\" 200 -\n",
      "127.0.0.1 - - [03/Dec/2022 21:55:02] \"GET /_dash-component-suites/dash/dash-renderer/build/dash_renderer.v2_7_0m1669654056.min.js HTTP/1.1\" 200 -\n",
      "127.0.0.1 - - [03/Dec/2022 21:55:02] \"GET /_dash-component-suites/dash/dcc/dash_core_components-shared.v2_7_0m1669654056.js HTTP/1.1\" 200 -\n",
      "127.0.0.1 - - [03/Dec/2022 21:55:02] \"GET /_dash-component-suites/dash/dcc/dash_core_components.v2_7_0m1669654056.js HTTP/1.1\" 200 -\n",
      "127.0.0.1 - - [03/Dec/2022 21:55:02] \"GET /_dash-component-suites/dash/dash_table/bundle.v5_2_0m1669654056.js HTTP/1.1\" 200 -\n",
      "127.0.0.1 - - [03/Dec/2022 21:55:02] \"GET /_dash-component-suites/dash/html/dash_html_components.v2_0_6m1669654056.min.js HTTP/1.1\" 200 -\n",
      "127.0.0.1 - - [03/Dec/2022 21:55:02] \"GET /_dash-layout HTTP/1.1\" 200 -\n",
      "127.0.0.1 - - [03/Dec/2022 21:55:02] \"GET /_dash-dependencies HTTP/1.1\" 200 -\n",
      "127.0.0.1 - - [03/Dec/2022 21:55:02] \"GET /_favicon.ico?v=2.7.0 HTTP/1.1\" 200 -\n",
      "127.0.0.1 - - [03/Dec/2022 21:55:02] \"GET /_dash-component-suites/dash/dcc/async-dropdown.js HTTP/1.1\" 200 -\n",
      "127.0.0.1 - - [03/Dec/2022 21:55:02] \"GET /_dash-component-suites/dash/dcc/async-graph.js HTTP/1.1\" 200 -\n",
      "127.0.0.1 - - [03/Dec/2022 21:55:02] \"GET /_dash-component-suites/dash/dcc/async-plotlyjs.js HTTP/1.1\" 200 -\n",
      "127.0.0.1 - - [03/Dec/2022 21:55:02] \"GET /_dash-component-suites/dash/dcc/async-slider.js HTTP/1.1\" 200 -\n",
      "127.0.0.1 - - [03/Dec/2022 21:55:02] \"POST /_dash-update-component HTTP/1.1\" 200 -\n",
      "127.0.0.1 - - [03/Dec/2022 21:55:02] \"POST /_dash-update-component HTTP/1.1\" 200 -\n",
      "/tmp/ipykernel_11664/3088558410.py:26: SettingWithCopyWarning:\n",
      "\n",
      "\n",
      "A value is trying to be set on a copy of a slice from a DataFrame.\n",
      "Try using .loc[row_indexer,col_indexer] = value instead\n",
      "\n",
      "See the caveats in the documentation: https://pandas.pydata.org/pandas-docs/stable/user_guide/indexing.html#returning-a-view-versus-a-copy\n",
      "\n",
      "/tmp/ipykernel_11664/417210908.py:21: UserWarning:\n",
      "\n",
      "Boolean Series key will be reindexed to match DataFrame index.\n",
      "\n",
      "/tmp/ipykernel_11664/3088558410.py:27: SettingWithCopyWarning:\n",
      "\n",
      "\n",
      "A value is trying to be set on a copy of a slice from a DataFrame.\n",
      "Try using .loc[row_indexer,col_indexer] = value instead\n",
      "\n",
      "See the caveats in the documentation: https://pandas.pydata.org/pandas-docs/stable/user_guide/indexing.html#returning-a-view-versus-a-copy\n",
      "\n",
      "127.0.0.1 - - [03/Dec/2022 21:55:09] \"POST /_dash-update-component HTTP/1.1\" 200 -\n",
      "127.0.0.1 - - [03/Dec/2022 21:55:09] \"POST /_dash-update-component HTTP/1.1\" 200 -\n"
     ]
    }
   ],
   "source": [
    "if __name__ == '__main__':\n",
    "    app.run_server()"
   ]
  },
  {
   "cell_type": "markdown",
   "id": "c7775e1e",
   "metadata": {},
   "source": [
    "## Plotly Dash Reference\n",
    "### Dropdown (input) component\n",
    "Refer here for more details about dcc.Dropdown()\n",
    "\n",
    "### Range slider (input) component\n",
    "Refer here for more details about dcc.RangeSlider()\n",
    "\n",
    "### Pie chart (output) component\n",
    "Refer here for more details about plotly pie charts\n",
    "\n",
    "### Scatter chart (output) component\n",
    "Refer here for more details about plotly scatter charts\n",
    "\n",
    "### Author\n",
    "Yan Luo\n",
    "\n",
    "### Jupyter notebook\n",
    "Josue Gomez Parada\n",
    "\n",
    "### Other contributor(s)\n",
    "Joseph Santarcangelo\n",
    "\n",
    "### Changelog\n",
    "\n"
   ]
  },
  {
   "cell_type": "markdown",
   "id": "faf12b09",
   "metadata": {},
   "source": [
    "|Date\t    | Version |\tChanged by    |\tChange Description  |\n",
    "|-----------|---------|---------------|---------------------|\n",
    "|20-09-2022 |\t1.3\t  | Lakshmi Holla | Updated screenshot. |\n",
    "|29-08-2022\t|   1.2   |\tLakshmi Holla |\tUpdated screenshot. |\n",
    "|03-09-2021\t|   1.1   |\tLakshmi Holla |\tAdded a note.       |\n",
    "|06-01-2021 |\t1.0   |\tYan\tInitial   | version created     |  \n"
   ]
  },
  {
   "cell_type": "markdown",
   "id": "c95bf810",
   "metadata": {},
   "source": [
    "© IBM Corporation 2021. All rights reserved."
   ]
  }
 ],
 "metadata": {
  "kernelspec": {
   "display_name": "Python 3 (ipykernel)",
   "language": "python",
   "name": "python3"
  },
  "language_info": {
   "codemirror_mode": {
    "name": "ipython",
    "version": 3
   },
   "file_extension": ".py",
   "mimetype": "text/x-python",
   "name": "python",
   "nbconvert_exporter": "python",
   "pygments_lexer": "ipython3",
   "version": "3.10.4"
  }
 },
 "nbformat": 4,
 "nbformat_minor": 5
}
