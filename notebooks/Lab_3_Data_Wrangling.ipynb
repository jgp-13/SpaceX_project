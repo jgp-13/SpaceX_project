{
 "cells": [
  {
   "cell_type": "markdown",
   "metadata": {},
   "source": [
    "# **Space X  Falcon 9 First Stage Landing Prediction**\n"
   ]
  },
  {
   "cell_type": "markdown",
   "metadata": {},
   "source": [
    "## Data wrangling"
   ]
  },
  {
   "cell_type": "markdown",
   "metadata": {},
   "source": [
    "\n",
    "In this lab, some Exploratory Data Analysis (EDA) will be performed in order to identify patterns within the data and determine the appropriate label for training supervised models.\n",
    "\n",
    "Within the data set, several instances in which the booster did not land successfully are observed. In some cases, a landing was attempted but ultimately failed due to an accident. For example, the indicator <code>True Ocean</code> signifies that the mission outcome involved a successful landing in a specific region of the ocean, whereas <code>False Ocean</code> signifies an unsuccessful landing in the same region. Similarly, <code>True RTLS</code> indicates that the mission outcome involved a successful landing on a ground pad, while <code>False RTLS</code> indicates an unsuccessful landing on a ground pad. Likewise, <code>True ASDS</code> indicates that the mission outcome involved a successful landing on a drone ship, whereas <code>False ASDS</code> indicates an unsuccessful landing on a drone ship.\n",
    "\n",
    "In this lab, these outcomes are primarily converted into training labels, where a value of `1` signifies that the booster landed successfully, and a value of `0` signifies that it did not.\n",
    "\n",
    "The Falcon 9 first stage is expected to land successfully.\n"
   ]
  },
  {
   "cell_type": "markdown",
   "metadata": {},
   "source": [
    "![](./images/landing_1.gif)\n",
    "\n"
   ]
  },
  {
   "cell_type": "markdown",
   "metadata": {},
   "source": [
    "Several examples of an unsuccessful landing are shown here:\n"
   ]
  },
  {
   "cell_type": "markdown",
   "metadata": {},
   "source": [
    "![](./images/crash.gif)"
   ]
  },
  {
   "cell_type": "markdown",
   "metadata": {},
   "source": [
    "## Objectives\n",
    "\n",
    "Exploratory data analysis was carried out, and training labels were determined.\n",
    "\n",
    "* Exploratory data analysis was conducted.\n",
    "* Training labels were established.\n",
    "\n"
   ]
  },
  {
   "cell_type": "markdown",
   "metadata": {},
   "source": [
    "***\n"
   ]
  },
  {
   "cell_type": "code",
   "execution_count": 35,
   "metadata": {},
   "outputs": [],
   "source": [
    "import pandas as pd\n",
    "import numpy as np\n",
    "import matplotlib.pyplot as plt\n",
    "import seaborn as sns\n",
    "import os\n",
    "import spacex\n",
    "import pickle\n",
    "\n",
    "from spacex.config import INTERIM_DATA_DIR, PROCESSED_DATA_DIR\n",
    "\n",
    "pd.set_option('display.max_columns', None)    # Setting this option will print all collumns of a dataframe\n",
    "pd.set_option('display.max_colwidth', None)   # Setting this option will print all of the data in a feature"
   ]
  },
  {
   "cell_type": "markdown",
   "metadata": {},
   "source": [
    "## Data Analysis\n"
   ]
  },
  {
   "cell_type": "markdown",
   "metadata": {},
   "source": [
    "### Extraction of data"
   ]
  },
  {
   "cell_type": "markdown",
   "metadata": {},
   "source": [
    "#### Merging data"
   ]
  },
  {
   "cell_type": "markdown",
   "metadata": {},
   "source": [
    "Space X datasets, are downloaded from previous sections.\n"
   ]
  },
  {
   "cell_type": "code",
   "execution_count": 36,
   "metadata": {},
   "outputs": [
    {
     "name": "stdout",
     "output_type": "stream",
     "text": [
      "121\n"
     ]
    },
    {
     "data": {
      "text/html": [
       "<div>\n",
       "<style scoped>\n",
       "    .dataframe tbody tr th:only-of-type {\n",
       "        vertical-align: middle;\n",
       "    }\n",
       "\n",
       "    .dataframe tbody tr th {\n",
       "        vertical-align: top;\n",
       "    }\n",
       "\n",
       "    .dataframe thead th {\n",
       "        text-align: right;\n",
       "    }\n",
       "</style>\n",
       "<table border=\"1\" class=\"dataframe\">\n",
       "  <thead>\n",
       "    <tr style=\"text-align: right;\">\n",
       "      <th></th>\n",
       "      <th>Flight_Number</th>\n",
       "      <th>Launch_Site</th>\n",
       "      <th>Payload</th>\n",
       "      <th>Payload_Mass</th>\n",
       "      <th>Orbit</th>\n",
       "      <th>Customer</th>\n",
       "      <th>Launch_Outcome</th>\n",
       "      <th>Booster_Version</th>\n",
       "      <th>Booster_Landing</th>\n",
       "      <th>Date</th>\n",
       "      <th>Time</th>\n",
       "    </tr>\n",
       "  </thead>\n",
       "  <tbody>\n",
       "    <tr>\n",
       "      <th>0</th>\n",
       "      <td>1</td>\n",
       "      <td>CCAFS</td>\n",
       "      <td>Dragon Spacecraft Qualification Unit</td>\n",
       "      <td>0</td>\n",
       "      <td>LEO</td>\n",
       "      <td>SpaceX</td>\n",
       "      <td>Success</td>\n",
       "      <td>F9 v1.07B0003.18</td>\n",
       "      <td>Failure</td>\n",
       "      <td>4 June 2010</td>\n",
       "      <td>18:45</td>\n",
       "    </tr>\n",
       "    <tr>\n",
       "      <th>1</th>\n",
       "      <td>2</td>\n",
       "      <td>CCAFS</td>\n",
       "      <td>Dragon</td>\n",
       "      <td>0</td>\n",
       "      <td>LEO</td>\n",
       "      <td>NASA</td>\n",
       "      <td>Success</td>\n",
       "      <td>F9 v1.07B0004.18</td>\n",
       "      <td>Failure</td>\n",
       "      <td>8 December 2010</td>\n",
       "      <td>15:43</td>\n",
       "    </tr>\n",
       "    <tr>\n",
       "      <th>2</th>\n",
       "      <td>3</td>\n",
       "      <td>CCAFS</td>\n",
       "      <td>Dragon</td>\n",
       "      <td>525 kg</td>\n",
       "      <td>LEO</td>\n",
       "      <td>NASA</td>\n",
       "      <td>Success</td>\n",
       "      <td>F9 v1.07B0005.18</td>\n",
       "      <td>No attempt</td>\n",
       "      <td>22 May 2012</td>\n",
       "      <td>07:44</td>\n",
       "    </tr>\n",
       "    <tr>\n",
       "      <th>3</th>\n",
       "      <td>4</td>\n",
       "      <td>CCAFS</td>\n",
       "      <td>SpaceX CRS-1</td>\n",
       "      <td>4,700 kg</td>\n",
       "      <td>LEO</td>\n",
       "      <td>NASA</td>\n",
       "      <td>Success</td>\n",
       "      <td>F9 v1.07B0006.18</td>\n",
       "      <td>No attempt</td>\n",
       "      <td>8 October 2012</td>\n",
       "      <td>00:35</td>\n",
       "    </tr>\n",
       "    <tr>\n",
       "      <th>4</th>\n",
       "      <td>5</td>\n",
       "      <td>CCAFS</td>\n",
       "      <td>SpaceX CRS-2</td>\n",
       "      <td>4,877 kg</td>\n",
       "      <td>LEO</td>\n",
       "      <td>NASA</td>\n",
       "      <td>Success</td>\n",
       "      <td>F9 v1.07B0007.18</td>\n",
       "      <td>No attempt</td>\n",
       "      <td>1 March 2013</td>\n",
       "      <td>15:10</td>\n",
       "    </tr>\n",
       "  </tbody>\n",
       "</table>\n",
       "</div>"
      ],
      "text/plain": [
       "   Flight_Number Launch_Site                               Payload  \\\n",
       "0              1       CCAFS  Dragon Spacecraft Qualification Unit   \n",
       "1              2       CCAFS                                Dragon   \n",
       "2              3       CCAFS                                Dragon   \n",
       "3              4       CCAFS                          SpaceX CRS-1   \n",
       "4              5       CCAFS                          SpaceX CRS-2   \n",
       "\n",
       "  Payload_Mass Orbit Customer Launch_Outcome   Booster_Version  \\\n",
       "0            0   LEO   SpaceX        Success  F9 v1.07B0003.18   \n",
       "1            0   LEO     NASA        Success  F9 v1.07B0004.18   \n",
       "2       525 kg   LEO     NASA        Success  F9 v1.07B0005.18   \n",
       "3     4,700 kg   LEO     NASA        Success  F9 v1.07B0006.18   \n",
       "4     4,877 kg   LEO     NASA        Success  F9 v1.07B0007.18   \n",
       "\n",
       "  Booster_Landing             Date   Time  \n",
       "0         Failure      4 June 2010  18:45  \n",
       "1         Failure  8 December 2010  15:43  \n",
       "2      No attempt      22 May 2012  07:44  \n",
       "3      No attempt   8 October 2012  00:35  \n",
       "4      No attempt     1 March 2013  15:10  "
      ]
     },
     "metadata": {},
     "output_type": "display_data"
    },
    {
     "name": "stdout",
     "output_type": "stream",
     "text": [
      "<class 'pandas.core.frame.DataFrame'>\n",
      "RangeIndex: 121 entries, 0 to 120\n",
      "Data columns (total 11 columns):\n",
      " #   Column           Non-Null Count  Dtype \n",
      "---  ------           --------------  ----- \n",
      " 0   Flight_Number    121 non-null    int64 \n",
      " 1   Launch_Site      121 non-null    object\n",
      " 2   Payload          121 non-null    object\n",
      " 3   Payload_Mass     121 non-null    object\n",
      " 4   Orbit            121 non-null    object\n",
      " 5   Customer         120 non-null    object\n",
      " 6   Launch_Outcome   121 non-null    object\n",
      " 7   Booster_Version  121 non-null    object\n",
      " 8   Booster_Landing  121 non-null    object\n",
      " 9   Date             121 non-null    object\n",
      " 10  Time             121 non-null    object\n",
      "dtypes: int64(1), object(10)\n",
      "memory usage: 10.5+ KB\n"
     ]
    }
   ],
   "source": [
    "csv_file = os.path.join(INTERIM_DATA_DIR, 'spacex_web_scraped.csv')\n",
    "df2 = pd.read_csv(csv_file)\n",
    "print(len(df2))\n",
    "display(df2.head())\n",
    "df2.info()"
   ]
  },
  {
   "cell_type": "code",
   "execution_count": 37,
   "metadata": {},
   "outputs": [
    {
     "name": "stdout",
     "output_type": "stream",
     "text": [
      "90\n"
     ]
    },
    {
     "data": {
      "text/html": [
       "<div>\n",
       "<style scoped>\n",
       "    .dataframe tbody tr th:only-of-type {\n",
       "        vertical-align: middle;\n",
       "    }\n",
       "\n",
       "    .dataframe tbody tr th {\n",
       "        vertical-align: top;\n",
       "    }\n",
       "\n",
       "    .dataframe thead th {\n",
       "        text-align: right;\n",
       "    }\n",
       "</style>\n",
       "<table border=\"1\" class=\"dataframe\">\n",
       "  <thead>\n",
       "    <tr style=\"text-align: right;\">\n",
       "      <th></th>\n",
       "      <th>Flight_Number</th>\n",
       "      <th>date_utc</th>\n",
       "      <th>Date</th>\n",
       "      <th>Time</th>\n",
       "      <th>Booster_Version</th>\n",
       "      <th>Payload_Mass</th>\n",
       "      <th>Orbit</th>\n",
       "      <th>Launch_Site</th>\n",
       "      <th>Mission_Outcome</th>\n",
       "      <th>Flights</th>\n",
       "      <th>GridFins</th>\n",
       "      <th>Reused</th>\n",
       "      <th>Legs</th>\n",
       "      <th>Customer</th>\n",
       "      <th>Landing_Pad</th>\n",
       "      <th>Block</th>\n",
       "      <th>Reused_Count</th>\n",
       "      <th>Serial</th>\n",
       "      <th>Longitude</th>\n",
       "      <th>Latitude</th>\n",
       "    </tr>\n",
       "  </thead>\n",
       "  <tbody>\n",
       "    <tr>\n",
       "      <th>4</th>\n",
       "      <td>1</td>\n",
       "      <td>2010-06-04 18:45:00+00:00</td>\n",
       "      <td>2010-06-04</td>\n",
       "      <td>18:45:00</td>\n",
       "      <td>Falcon 9</td>\n",
       "      <td>6123.547647</td>\n",
       "      <td>LEO</td>\n",
       "      <td>CCSFS SLC 40</td>\n",
       "      <td>None None</td>\n",
       "      <td>1</td>\n",
       "      <td>False</td>\n",
       "      <td>False</td>\n",
       "      <td>False</td>\n",
       "      <td>SpaceX</td>\n",
       "      <td>None</td>\n",
       "      <td>1.0</td>\n",
       "      <td>0</td>\n",
       "      <td>B0003</td>\n",
       "      <td>-80.577366</td>\n",
       "      <td>28.561857</td>\n",
       "    </tr>\n",
       "    <tr>\n",
       "      <th>5</th>\n",
       "      <td>2</td>\n",
       "      <td>2012-05-22 07:44:00+00:00</td>\n",
       "      <td>2012-05-22</td>\n",
       "      <td>07:44:00</td>\n",
       "      <td>Falcon 9</td>\n",
       "      <td>525.000000</td>\n",
       "      <td>LEO</td>\n",
       "      <td>CCSFS SLC 40</td>\n",
       "      <td>None None</td>\n",
       "      <td>1</td>\n",
       "      <td>False</td>\n",
       "      <td>False</td>\n",
       "      <td>False</td>\n",
       "      <td>NASA(COTS)</td>\n",
       "      <td>None</td>\n",
       "      <td>1.0</td>\n",
       "      <td>0</td>\n",
       "      <td>B0005</td>\n",
       "      <td>-80.577366</td>\n",
       "      <td>28.561857</td>\n",
       "    </tr>\n",
       "    <tr>\n",
       "      <th>6</th>\n",
       "      <td>3</td>\n",
       "      <td>2013-03-01 19:10:00+00:00</td>\n",
       "      <td>2013-03-01</td>\n",
       "      <td>19:10:00</td>\n",
       "      <td>Falcon 9</td>\n",
       "      <td>677.000000</td>\n",
       "      <td>ISS</td>\n",
       "      <td>CCSFS SLC 40</td>\n",
       "      <td>None None</td>\n",
       "      <td>1</td>\n",
       "      <td>False</td>\n",
       "      <td>False</td>\n",
       "      <td>False</td>\n",
       "      <td>NASA (CRS)</td>\n",
       "      <td>None</td>\n",
       "      <td>1.0</td>\n",
       "      <td>0</td>\n",
       "      <td>B0007</td>\n",
       "      <td>-80.577366</td>\n",
       "      <td>28.561857</td>\n",
       "    </tr>\n",
       "    <tr>\n",
       "      <th>7</th>\n",
       "      <td>4</td>\n",
       "      <td>2013-09-29 16:00:00+00:00</td>\n",
       "      <td>2013-09-29</td>\n",
       "      <td>16:00:00</td>\n",
       "      <td>Falcon 9</td>\n",
       "      <td>500.000000</td>\n",
       "      <td>PO</td>\n",
       "      <td>VAFB SLC 4E</td>\n",
       "      <td>False Ocean</td>\n",
       "      <td>1</td>\n",
       "      <td>False</td>\n",
       "      <td>False</td>\n",
       "      <td>False</td>\n",
       "      <td>MDA</td>\n",
       "      <td>None</td>\n",
       "      <td>1.0</td>\n",
       "      <td>0</td>\n",
       "      <td>B1003</td>\n",
       "      <td>-120.610829</td>\n",
       "      <td>34.632093</td>\n",
       "    </tr>\n",
       "    <tr>\n",
       "      <th>8</th>\n",
       "      <td>5</td>\n",
       "      <td>2013-12-03 22:41:00+00:00</td>\n",
       "      <td>2013-12-03</td>\n",
       "      <td>22:41:00</td>\n",
       "      <td>Falcon 9</td>\n",
       "      <td>3170.000000</td>\n",
       "      <td>GTO</td>\n",
       "      <td>CCSFS SLC 40</td>\n",
       "      <td>None None</td>\n",
       "      <td>1</td>\n",
       "      <td>False</td>\n",
       "      <td>False</td>\n",
       "      <td>False</td>\n",
       "      <td>SES</td>\n",
       "      <td>None</td>\n",
       "      <td>1.0</td>\n",
       "      <td>0</td>\n",
       "      <td>B1004</td>\n",
       "      <td>-80.577366</td>\n",
       "      <td>28.561857</td>\n",
       "    </tr>\n",
       "  </tbody>\n",
       "</table>\n",
       "</div>"
      ],
      "text/plain": [
       "   Flight_Number                  date_utc        Date      Time  \\\n",
       "4              1 2010-06-04 18:45:00+00:00  2010-06-04  18:45:00   \n",
       "5              2 2012-05-22 07:44:00+00:00  2012-05-22  07:44:00   \n",
       "6              3 2013-03-01 19:10:00+00:00  2013-03-01  19:10:00   \n",
       "7              4 2013-09-29 16:00:00+00:00  2013-09-29  16:00:00   \n",
       "8              5 2013-12-03 22:41:00+00:00  2013-12-03  22:41:00   \n",
       "\n",
       "  Booster_Version  Payload_Mass Orbit   Launch_Site Mission_Outcome  Flights  \\\n",
       "4        Falcon 9   6123.547647   LEO  CCSFS SLC 40       None None        1   \n",
       "5        Falcon 9    525.000000   LEO  CCSFS SLC 40       None None        1   \n",
       "6        Falcon 9    677.000000   ISS  CCSFS SLC 40       None None        1   \n",
       "7        Falcon 9    500.000000    PO   VAFB SLC 4E     False Ocean        1   \n",
       "8        Falcon 9   3170.000000   GTO  CCSFS SLC 40       None None        1   \n",
       "\n",
       "   GridFins  Reused   Legs    Customer Landing_Pad  Block  Reused_Count  \\\n",
       "4     False   False  False      SpaceX        None    1.0             0   \n",
       "5     False   False  False  NASA(COTS)        None    1.0             0   \n",
       "6     False   False  False  NASA (CRS)        None    1.0             0   \n",
       "7     False   False  False         MDA        None    1.0             0   \n",
       "8     False   False  False         SES        None    1.0             0   \n",
       "\n",
       "  Serial   Longitude   Latitude  \n",
       "4  B0003  -80.577366  28.561857  \n",
       "5  B0005  -80.577366  28.561857  \n",
       "6  B0007  -80.577366  28.561857  \n",
       "7  B1003 -120.610829  34.632093  \n",
       "8  B1004  -80.577366  28.561857  "
      ]
     },
     "metadata": {},
     "output_type": "display_data"
    },
    {
     "name": "stdout",
     "output_type": "stream",
     "text": [
      "<class 'pandas.core.frame.DataFrame'>\n",
      "Index: 90 entries, 4 to 93\n",
      "Data columns (total 20 columns):\n",
      " #   Column           Non-Null Count  Dtype              \n",
      "---  ------           --------------  -----              \n",
      " 0   Flight_Number    90 non-null     int64              \n",
      " 1   date_utc         90 non-null     datetime64[ns, UTC]\n",
      " 2   Date             90 non-null     object             \n",
      " 3   Time             90 non-null     object             \n",
      " 4   Booster_Version  90 non-null     object             \n",
      " 5   Payload_Mass     90 non-null     float64            \n",
      " 6   Orbit            90 non-null     object             \n",
      " 7   Launch_Site      90 non-null     object             \n",
      " 8   Mission_Outcome  90 non-null     object             \n",
      " 9   Flights          90 non-null     int64              \n",
      " 10  GridFins         90 non-null     bool               \n",
      " 11  Reused           90 non-null     bool               \n",
      " 12  Legs             90 non-null     bool               \n",
      " 13  Customer         90 non-null     object             \n",
      " 14  Landing_Pad      64 non-null     object             \n",
      " 15  Block            90 non-null     float64            \n",
      " 16  Reused_Count     90 non-null     int64              \n",
      " 17  Serial           90 non-null     object             \n",
      " 18  Longitude        90 non-null     float64            \n",
      " 19  Latitude         90 non-null     float64            \n",
      "dtypes: bool(3), datetime64[ns, UTC](1), float64(4), int64(3), object(9)\n",
      "memory usage: 12.9+ KB\n"
     ]
    }
   ],
   "source": [
    "pickle_file = os.path.join(INTERIM_DATA_DIR, 'dataset_part_1.pkl')\n",
    "with open(pickle_file, 'rb') as file:\n",
    "    df1 = pickle.load(file)\n",
    "print(len(df1))\n",
    "display(df1.head())\n",
    "df1.info()"
   ]
  },
  {
   "cell_type": "markdown",
   "metadata": {},
   "source": [
    "Now both datasets will be merged"
   ]
  },
  {
   "cell_type": "code",
   "execution_count": 38,
   "metadata": {},
   "outputs": [
    {
     "name": "stdout",
     "output_type": "stream",
     "text": [
      "In the first Dataset there are 0 launches on the same day (duplicated values).\n",
      "In the second Dataset there are 0 launches on the same day (duplicated values).\n"
     ]
    }
   ],
   "source": [
    "df1['Date'] = pd.to_datetime(df1['Date'])\n",
    "df2['Date'] = pd.to_datetime(df2['Date'])\n",
    "\n",
    "print(f'In the first Dataset there are {df1[\"Date\"].duplicated().sum()} launches on the same day (duplicated values).')\n",
    "print(f'In the second Dataset there are {df2[\"Date\"].duplicated().sum()} launches on the same day (duplicated values).')\n"
   ]
  },
  {
   "cell_type": "markdown",
   "metadata": {},
   "source": [
    "With no duplicated values the two datasets can be merged on the launch date **`'Date'`**"
   ]
  },
  {
   "cell_type": "code",
   "execution_count": 39,
   "metadata": {},
   "outputs": [
    {
     "name": "stdout",
     "output_type": "stream",
     "text": [
      "<class 'pandas.core.frame.DataFrame'>\n",
      "RangeIndex: 121 entries, 0 to 120\n",
      "Data columns (total 30 columns):\n",
      " #   Column              Non-Null Count  Dtype              \n",
      "---  ------              --------------  -----              \n",
      " 0   Flight_Number_sx    89 non-null     float64            \n",
      " 1   date_utc            89 non-null     datetime64[ns, UTC]\n",
      " 2   Date                121 non-null    datetime64[ns]     \n",
      " 3   Time_sx             89 non-null     object             \n",
      " 4   Booster_Version_sx  89 non-null     object             \n",
      " 5   Payload_Mass_sx     89 non-null     float64            \n",
      " 6   Orbit_sx            89 non-null     object             \n",
      " 7   Launch_Site_sx      89 non-null     object             \n",
      " 8   Mission_Outcome     89 non-null     object             \n",
      " 9   Flights             89 non-null     float64            \n",
      " 10  GridFins            89 non-null     object             \n",
      " 11  Reused              89 non-null     object             \n",
      " 12  Legs                89 non-null     object             \n",
      " 13  Customer_sx         89 non-null     object             \n",
      " 14  Landing_Pad         63 non-null     object             \n",
      " 15  Block               89 non-null     float64            \n",
      " 16  Reused_Count        89 non-null     float64            \n",
      " 17  Serial              89 non-null     object             \n",
      " 18  Longitude           89 non-null     float64            \n",
      " 19  Latitude            89 non-null     float64            \n",
      " 20  Flight_Number_wk    121 non-null    int64              \n",
      " 21  Launch_Site_wk      121 non-null    object             \n",
      " 22  Payload             121 non-null    object             \n",
      " 23  Payload_Mass_wk     121 non-null    object             \n",
      " 24  Orbit_wk            121 non-null    object             \n",
      " 25  Customer_wk         120 non-null    object             \n",
      " 26  Launch_Outcome      121 non-null    object             \n",
      " 27  Booster_Version_wk  121 non-null    object             \n",
      " 28  Booster_Landing     121 non-null    object             \n",
      " 29  Time_wk             121 non-null    object             \n",
      "dtypes: datetime64[ns, UTC](1), datetime64[ns](1), float64(7), int64(1), object(20)\n",
      "memory usage: 28.5+ KB\n"
     ]
    }
   ],
   "source": [
    "df = df1.merge(df2, on = 'Date', how='right', suffixes=['_sx', '_wk'])\n",
    "df.info()"
   ]
  },
  {
   "cell_type": "markdown",
   "metadata": {},
   "source": [
    "After merging, we inspect some columns to understand any discrepancies or missing values:"
   ]
  },
  {
   "cell_type": "code",
   "execution_count": 40,
   "metadata": {},
   "outputs": [
    {
     "data": {
      "text/html": [
       "<div>\n",
       "<style scoped>\n",
       "    .dataframe tbody tr th:only-of-type {\n",
       "        vertical-align: middle;\n",
       "    }\n",
       "\n",
       "    .dataframe tbody tr th {\n",
       "        vertical-align: top;\n",
       "    }\n",
       "\n",
       "    .dataframe thead th {\n",
       "        text-align: right;\n",
       "    }\n",
       "</style>\n",
       "<table border=\"1\" class=\"dataframe\">\n",
       "  <thead>\n",
       "    <tr style=\"text-align: right;\">\n",
       "      <th></th>\n",
       "      <th>Booster_Version_sx</th>\n",
       "      <th>Booster_Version_wk</th>\n",
       "      <th>Serial</th>\n",
       "      <th>Customer_sx</th>\n",
       "      <th>Customer_wk</th>\n",
       "      <th>Flight_Number_sx</th>\n",
       "      <th>Flight_Number_wk</th>\n",
       "    </tr>\n",
       "  </thead>\n",
       "  <tbody>\n",
       "    <tr>\n",
       "      <th>117</th>\n",
       "      <td>NaN</td>\n",
       "      <td>F9 B5B1058.8660</td>\n",
       "      <td>NaN</td>\n",
       "      <td>NaN</td>\n",
       "      <td>SpaceX</td>\n",
       "      <td>NaN</td>\n",
       "      <td>118</td>\n",
       "    </tr>\n",
       "    <tr>\n",
       "      <th>57</th>\n",
       "      <td>Falcon 9</td>\n",
       "      <td>F9 B5</td>\n",
       "      <td>B1047</td>\n",
       "      <td>Telesat</td>\n",
       "      <td>Telesat</td>\n",
       "      <td>53.0</td>\n",
       "      <td>58</td>\n",
       "    </tr>\n",
       "    <tr>\n",
       "      <th>63</th>\n",
       "      <td>Falcon 9</td>\n",
       "      <td>F9 B5B1046.3268</td>\n",
       "      <td>B1046</td>\n",
       "      <td>Spaceflight Industries, Inc</td>\n",
       "      <td>Spaceflight Industries</td>\n",
       "      <td>59.0</td>\n",
       "      <td>64</td>\n",
       "    </tr>\n",
       "    <tr>\n",
       "      <th>54</th>\n",
       "      <td>NaN</td>\n",
       "      <td>F9 B4B1043.2322</td>\n",
       "      <td>NaN</td>\n",
       "      <td>NaN</td>\n",
       "      <td>Iridium Communications</td>\n",
       "      <td>NaN</td>\n",
       "      <td>55</td>\n",
       "    </tr>\n",
       "    <tr>\n",
       "      <th>70</th>\n",
       "      <td>Falcon 9</td>\n",
       "      <td>F9 B5B1049.3434</td>\n",
       "      <td>B1049</td>\n",
       "      <td>SpaceX</td>\n",
       "      <td>SpaceX</td>\n",
       "      <td>65.0</td>\n",
       "      <td>71</td>\n",
       "    </tr>\n",
       "    <tr>\n",
       "      <th>7</th>\n",
       "      <td>Falcon 9</td>\n",
       "      <td>F9 v1.1</td>\n",
       "      <td>B1005</td>\n",
       "      <td>Thaicom</td>\n",
       "      <td>Thaicom</td>\n",
       "      <td>6.0</td>\n",
       "      <td>8</td>\n",
       "    </tr>\n",
       "    <tr>\n",
       "      <th>103</th>\n",
       "      <td>NaN</td>\n",
       "      <td>F9 B5</td>\n",
       "      <td>NaN</td>\n",
       "      <td>NaN</td>\n",
       "      <td>Türksat</td>\n",
       "      <td>NaN</td>\n",
       "      <td>104</td>\n",
       "    </tr>\n",
       "    <tr>\n",
       "      <th>44</th>\n",
       "      <td>Falcon 9</td>\n",
       "      <td>F9 FTB1035.2227</td>\n",
       "      <td>B1035</td>\n",
       "      <td>NASA (CRS)</td>\n",
       "      <td>NASA</td>\n",
       "      <td>42.0</td>\n",
       "      <td>45</td>\n",
       "    </tr>\n",
       "    <tr>\n",
       "      <th>60</th>\n",
       "      <td>Falcon 9</td>\n",
       "      <td>F9 B5[</td>\n",
       "      <td>B1049</td>\n",
       "      <td>Telesat</td>\n",
       "      <td>Telesat</td>\n",
       "      <td>56.0</td>\n",
       "      <td>61</td>\n",
       "    </tr>\n",
       "    <tr>\n",
       "      <th>107</th>\n",
       "      <td>NaN</td>\n",
       "      <td>F9 B5 ♺</td>\n",
       "      <td>NaN</td>\n",
       "      <td>NaN</td>\n",
       "      <td>SpaceX</td>\n",
       "      <td>NaN</td>\n",
       "      <td>108</td>\n",
       "    </tr>\n",
       "  </tbody>\n",
       "</table>\n",
       "</div>"
      ],
      "text/plain": [
       "    Booster_Version_sx Booster_Version_wk Serial                  Customer_sx  \\\n",
       "117                NaN    F9 B5B1058.8660    NaN                          NaN   \n",
       "57            Falcon 9              F9 B5  B1047                      Telesat   \n",
       "63            Falcon 9    F9 B5B1046.3268  B1046  Spaceflight Industries, Inc   \n",
       "54                 NaN    F9 B4B1043.2322    NaN                          NaN   \n",
       "70            Falcon 9    F9 B5B1049.3434  B1049                       SpaceX   \n",
       "7             Falcon 9            F9 v1.1  B1005                      Thaicom   \n",
       "103                NaN              F9 B5    NaN                          NaN   \n",
       "44            Falcon 9    F9 FTB1035.2227  B1035                   NASA (CRS)   \n",
       "60            Falcon 9             F9 B5[  B1049                      Telesat   \n",
       "107                NaN            F9 B5 ♺    NaN                          NaN   \n",
       "\n",
       "                Customer_wk  Flight_Number_sx  Flight_Number_wk  \n",
       "117                  SpaceX               NaN               118  \n",
       "57                  Telesat              53.0                58  \n",
       "63   Spaceflight Industries              59.0                64  \n",
       "54   Iridium Communications               NaN                55  \n",
       "70                   SpaceX              65.0                71  \n",
       "7                   Thaicom               6.0                 8  \n",
       "103                 Türksat               NaN               104  \n",
       "44                     NASA              42.0                45  \n",
       "60                  Telesat              56.0                61  \n",
       "107                  SpaceX               NaN               108  "
      ]
     },
     "execution_count": 40,
     "metadata": {},
     "output_type": "execute_result"
    }
   ],
   "source": [
    "\n",
    "df[[ 'Booster_Version_sx', 'Booster_Version_wk', 'Serial', 'Customer_sx','Customer_wk', 'Flight_Number_sx', 'Flight_Number_wk']].sample(10)\n"
   ]
  },
  {
   "cell_type": "code",
   "execution_count": 41,
   "metadata": {},
   "outputs": [
    {
     "data": {
      "text/html": [
       "<div>\n",
       "<style scoped>\n",
       "    .dataframe tbody tr th:only-of-type {\n",
       "        vertical-align: middle;\n",
       "    }\n",
       "\n",
       "    .dataframe tbody tr th {\n",
       "        vertical-align: top;\n",
       "    }\n",
       "\n",
       "    .dataframe thead th {\n",
       "        text-align: right;\n",
       "    }\n",
       "</style>\n",
       "<table border=\"1\" class=\"dataframe\">\n",
       "  <thead>\n",
       "    <tr style=\"text-align: right;\">\n",
       "      <th></th>\n",
       "      <th>Launch_Site_sx</th>\n",
       "      <th>Launch_Site_sx</th>\n",
       "      <th>Orbit_sx</th>\n",
       "      <th>Orbit_wk</th>\n",
       "      <th>Payload_Mass_sx</th>\n",
       "      <th>Payload_Mass_sx</th>\n",
       "      <th>Time_sx</th>\n",
       "      <th>Time_wk</th>\n",
       "    </tr>\n",
       "  </thead>\n",
       "  <tbody>\n",
       "    <tr>\n",
       "      <th>110</th>\n",
       "      <td>NaN</td>\n",
       "      <td>NaN</td>\n",
       "      <td>NaN</td>\n",
       "      <td>LEO</td>\n",
       "      <td>NaN</td>\n",
       "      <td>NaN</td>\n",
       "      <td>NaN</td>\n",
       "      <td>10:01</td>\n",
       "    </tr>\n",
       "    <tr>\n",
       "      <th>25</th>\n",
       "      <td>NaN</td>\n",
       "      <td>NaN</td>\n",
       "      <td>NaN</td>\n",
       "      <td>GTO</td>\n",
       "      <td>NaN</td>\n",
       "      <td>NaN</td>\n",
       "      <td>NaN</td>\n",
       "      <td>14:29</td>\n",
       "    </tr>\n",
       "    <tr>\n",
       "      <th>62</th>\n",
       "      <td>KSC LC 39A</td>\n",
       "      <td>KSC LC 39A</td>\n",
       "      <td>GTO</td>\n",
       "      <td>GTO</td>\n",
       "      <td>3000.000000</td>\n",
       "      <td>3000.000000</td>\n",
       "      <td>20:46:00</td>\n",
       "      <td>20:46</td>\n",
       "    </tr>\n",
       "    <tr>\n",
       "      <th>58</th>\n",
       "      <td>VAFB SLC 4E</td>\n",
       "      <td>VAFB SLC 4E</td>\n",
       "      <td>PO</td>\n",
       "      <td>Polar</td>\n",
       "      <td>9600.000000</td>\n",
       "      <td>9600.000000</td>\n",
       "      <td>11:39:26</td>\n",
       "      <td>11:39</td>\n",
       "    </tr>\n",
       "    <tr>\n",
       "      <th>78</th>\n",
       "      <td>KSC LC 39A</td>\n",
       "      <td>KSC LC 39A</td>\n",
       "      <td>SO</td>\n",
       "      <td>Sub-orbital</td>\n",
       "      <td>6123.547647</td>\n",
       "      <td>6123.547647</td>\n",
       "      <td>14:00:00</td>\n",
       "      <td>15:30</td>\n",
       "    </tr>\n",
       "    <tr>\n",
       "      <th>32</th>\n",
       "      <td>KSC LC 39A</td>\n",
       "      <td>KSC LC 39A</td>\n",
       "      <td>LEO</td>\n",
       "      <td>LEO</td>\n",
       "      <td>6123.547647</td>\n",
       "      <td>6123.547647</td>\n",
       "      <td>11:15:00</td>\n",
       "      <td>11:15</td>\n",
       "    </tr>\n",
       "    <tr>\n",
       "      <th>14</th>\n",
       "      <td>CCSFS SLC 40</td>\n",
       "      <td>CCSFS SLC 40</td>\n",
       "      <td>ES-L1</td>\n",
       "      <td>HEO</td>\n",
       "      <td>570.000000</td>\n",
       "      <td>570.000000</td>\n",
       "      <td>23:03:00</td>\n",
       "      <td>23:03</td>\n",
       "    </tr>\n",
       "    <tr>\n",
       "      <th>8</th>\n",
       "      <td>CCSFS SLC 40</td>\n",
       "      <td>CCSFS SLC 40</td>\n",
       "      <td>ISS</td>\n",
       "      <td>LEO</td>\n",
       "      <td>2296.000000</td>\n",
       "      <td>2296.000000</td>\n",
       "      <td>19:25:00</td>\n",
       "      <td>19:25</td>\n",
       "    </tr>\n",
       "    <tr>\n",
       "      <th>7</th>\n",
       "      <td>CCSFS SLC 40</td>\n",
       "      <td>CCSFS SLC 40</td>\n",
       "      <td>GTO</td>\n",
       "      <td>GTO</td>\n",
       "      <td>3325.000000</td>\n",
       "      <td>3325.000000</td>\n",
       "      <td>18:06:00</td>\n",
       "      <td>22:06</td>\n",
       "    </tr>\n",
       "    <tr>\n",
       "      <th>94</th>\n",
       "      <td>KSC LC 39A</td>\n",
       "      <td>KSC LC 39A</td>\n",
       "      <td>VLEO</td>\n",
       "      <td>LEO</td>\n",
       "      <td>15600.000000</td>\n",
       "      <td>15600.000000</td>\n",
       "      <td>12:25:00</td>\n",
       "      <td>12:25:57</td>\n",
       "    </tr>\n",
       "  </tbody>\n",
       "</table>\n",
       "</div>"
      ],
      "text/plain": [
       "    Launch_Site_sx Launch_Site_sx Orbit_sx     Orbit_wk  Payload_Mass_sx  \\\n",
       "110            NaN            NaN      NaN          LEO              NaN   \n",
       "25             NaN            NaN      NaN          GTO              NaN   \n",
       "62      KSC LC 39A     KSC LC 39A      GTO          GTO      3000.000000   \n",
       "58     VAFB SLC 4E    VAFB SLC 4E       PO        Polar      9600.000000   \n",
       "78      KSC LC 39A     KSC LC 39A       SO  Sub-orbital      6123.547647   \n",
       "32      KSC LC 39A     KSC LC 39A      LEO          LEO      6123.547647   \n",
       "14    CCSFS SLC 40   CCSFS SLC 40    ES-L1          HEO       570.000000   \n",
       "8     CCSFS SLC 40   CCSFS SLC 40      ISS          LEO      2296.000000   \n",
       "7     CCSFS SLC 40   CCSFS SLC 40      GTO          GTO      3325.000000   \n",
       "94      KSC LC 39A     KSC LC 39A     VLEO          LEO     15600.000000   \n",
       "\n",
       "     Payload_Mass_sx   Time_sx   Time_wk  \n",
       "110              NaN       NaN     10:01  \n",
       "25               NaN       NaN     14:29  \n",
       "62       3000.000000  20:46:00     20:46  \n",
       "58       9600.000000  11:39:26     11:39  \n",
       "78       6123.547647  14:00:00     15:30  \n",
       "32       6123.547647  11:15:00     11:15  \n",
       "14        570.000000  23:03:00     23:03  \n",
       "8        2296.000000  19:25:00     19:25  \n",
       "7        3325.000000  18:06:00     22:06  \n",
       "94      15600.000000  12:25:00  12:25:57  "
      ]
     },
     "execution_count": 41,
     "metadata": {},
     "output_type": "execute_result"
    }
   ],
   "source": [
    "\n",
    "df[['Launch_Site_sx', 'Launch_Site_sx', 'Orbit_sx', 'Orbit_wk','Payload_Mass_sx','Payload_Mass_sx','Time_sx','Time_wk']].sample(10)\n"
   ]
  },
  {
   "cell_type": "markdown",
   "metadata": {},
   "source": [
    "#### Consolidating Columns\n",
    "We notice some columns appear in both dataframes with slightly different naming conventions (e.g., `_sx` vs. `_wk`). We combine them into single columns where appropriate:"
   ]
  },
  {
   "cell_type": "code",
   "execution_count": 42,
   "metadata": {},
   "outputs": [],
   "source": [
    "columns_to_merge = ['Booster_Version', 'Customer', 'Orbit', 'Payload_Mass']\n",
    "\n",
    "for col in columns_to_merge:\n",
    "    df[col] = df[f\"{col}_sx\"].combine_first(df[f\"{col}_wk\"])  # Use _sx if not NaN, otherwise _wk\n",
    "    df.drop([f\"{col}_sx\", f\"{col}_wk\"], axis=1, inplace=True)  # Drop redundant columns\n"
   ]
  },
  {
   "cell_type": "markdown",
   "metadata": {},
   "source": [
    "We then merge the time columns similarly:"
   ]
  },
  {
   "cell_type": "code",
   "execution_count": 43,
   "metadata": {},
   "outputs": [
    {
     "name": "stderr",
     "output_type": "stream",
     "text": [
      "C:\\Users\\josue\\AppData\\Local\\Temp\\ipykernel_11464\\130290623.py:3: UserWarning: Could not infer format, so each element will be parsed individually, falling back to `dateutil`. To ensure parsing is consistent and as-expected, please specify a format.\n",
      "  df['Time_wk'] = pd.to_datetime(df['Time_wk'], errors='coerce').dt.strftime('%H:%M:%S')\n"
     ]
    }
   ],
   "source": [
    "# Convert to datetime and extract time as a string\n",
    "df['Time_sx'] = pd.to_datetime(df['Time_sx'], errors='coerce').dt.strftime('%H:%M:%S')\n",
    "df['Time_wk'] = pd.to_datetime(df['Time_wk'], errors='coerce').dt.strftime('%H:%M:%S')\n",
    "\n",
    "# Merge: Use 'Time_sx' where available, otherwise take 'Time_wk'\n",
    "df['Time (UTC)'] = df['Time_sx'].combine_first(df['Time_wk'])"
   ]
  },
  {
   "cell_type": "code",
   "execution_count": 44,
   "metadata": {},
   "outputs": [
    {
     "data": {
      "text/html": [
       "<div>\n",
       "<style scoped>\n",
       "    .dataframe tbody tr th:only-of-type {\n",
       "        vertical-align: middle;\n",
       "    }\n",
       "\n",
       "    .dataframe tbody tr th {\n",
       "        vertical-align: top;\n",
       "    }\n",
       "\n",
       "    .dataframe thead th {\n",
       "        text-align: right;\n",
       "    }\n",
       "</style>\n",
       "<table border=\"1\" class=\"dataframe\">\n",
       "  <thead>\n",
       "    <tr style=\"text-align: right;\">\n",
       "      <th></th>\n",
       "      <th>Time (UTC)</th>\n",
       "      <th>Time_sx</th>\n",
       "      <th>Time_wk</th>\n",
       "    </tr>\n",
       "  </thead>\n",
       "  <tbody>\n",
       "    <tr>\n",
       "      <th>28</th>\n",
       "      <td>17:54:00</td>\n",
       "      <td>NaN</td>\n",
       "      <td>17:54:00</td>\n",
       "    </tr>\n",
       "    <tr>\n",
       "      <th>58</th>\n",
       "      <td>11:39:00</td>\n",
       "      <td>NaN</td>\n",
       "      <td>11:39:00</td>\n",
       "    </tr>\n",
       "    <tr>\n",
       "      <th>40</th>\n",
       "      <td>14:00:00</td>\n",
       "      <td>NaN</td>\n",
       "      <td>14:00:00</td>\n",
       "    </tr>\n",
       "    <tr>\n",
       "      <th>105</th>\n",
       "      <td>15:00:00</td>\n",
       "      <td>NaN</td>\n",
       "      <td>15:00:00</td>\n",
       "    </tr>\n",
       "    <tr>\n",
       "      <th>64</th>\n",
       "      <td>18:16:00</td>\n",
       "      <td>NaN</td>\n",
       "      <td>18:16:00</td>\n",
       "    </tr>\n",
       "  </tbody>\n",
       "</table>\n",
       "</div>"
      ],
      "text/plain": [
       "    Time (UTC) Time_sx   Time_wk\n",
       "28    17:54:00     NaN  17:54:00\n",
       "58    11:39:00     NaN  11:39:00\n",
       "40    14:00:00     NaN  14:00:00\n",
       "105   15:00:00     NaN  15:00:00\n",
       "64    18:16:00     NaN  18:16:00"
      ]
     },
     "execution_count": 44,
     "metadata": {},
     "output_type": "execute_result"
    }
   ],
   "source": [
    "df[['Time (UTC)','Time_sx','Time_wk']].sample(5)"
   ]
  },
  {
   "cell_type": "code",
   "execution_count": 45,
   "metadata": {},
   "outputs": [],
   "source": [
    "# Drop redundant columns\n",
    "df.drop(['Time_sx', 'Time_wk'], axis=1, inplace=True)"
   ]
  },
  {
   "cell_type": "markdown",
   "metadata": {},
   "source": [
    "We also unify the launch site columns:"
   ]
  },
  {
   "cell_type": "code",
   "execution_count": 46,
   "metadata": {},
   "outputs": [],
   "source": [
    "# Combine 'Launch_Site_sx' and 'Launch_Site_wk' into one column.\n",
    "df['Launch_Site'] = df['Launch_Site_sx'].where(df['Launch_Site_sx'].notna(), df['Launch_Site_wk'])\n",
    "\n",
    "# Drop the now redundant columns as they are no longer needed.\n",
    "df.drop(['Launch_Site_sx', 'Launch_Site_wk'], axis=1, inplace=True)\n",
    "\n",
    "# Define a mapping dictionary to standardise the launch site names.\n",
    "# This converts various designations to a consistent format.\n",
    "mapping = {\n",
    "    'CCAFS': 'CCSFS SLC 40',         \n",
    "    'Cape Canaveral': 'CCSFS SLC 40',  \n",
    "    'CCSFS': 'CCSFS SLC 40',           \n",
    "    'VAFB': 'VAFB SLC 4E',             \n",
    "    'KSC': 'KSC LC 39A'                \n",
    "}\n",
    "\n",
    "# Apply the mapping to update values in the 'Launch_Site' column.\n",
    "df['Launch_Site'] = df['Launch_Site'].replace(mapping)\n",
    "\n",
    "# Use a regular expression to replace the second space with a hyphen.\n",
    "df['Launch_Site'] = df['Launch_Site'].str.replace(r'^(\\S+ \\S+) (\\S+)$', r'\\1-\\2', regex=True)\n",
    "\n",
    "# Split the formatted 'Launch_Site' into two new columns: 'Facility' and 'Complex'.\n",
    "df[['Facility', 'Complex']] = df['Launch_Site'].str.split(' ', expand=True)\n"
   ]
  },
  {
   "cell_type": "code",
   "execution_count": 47,
   "metadata": {},
   "outputs": [],
   "source": [
    "df['Flight_Number'] = df['Flight_Number_wk']\n",
    "df.drop(['Flight_Number_sx','Flight_Number_wk'],axis=1, inplace=True)"
   ]
  },
  {
   "cell_type": "markdown",
   "metadata": {},
   "source": [
    "The percentage of missing values in each attribute was identified and calculated.\n"
   ]
  },
  {
   "cell_type": "code",
   "execution_count": 48,
   "metadata": {},
   "outputs": [
    {
     "data": {
      "text/plain": [
       "date_utc           35.955056\n",
       "Date                0.000000\n",
       "Mission_Outcome    35.955056\n",
       "Flights            35.955056\n",
       "GridFins           35.955056\n",
       "Reused             35.955056\n",
       "Legs               35.955056\n",
       "Landing_Pad        92.063492\n",
       "Block              35.955056\n",
       "Reused_Count       35.955056\n",
       "Serial             35.955056\n",
       "Longitude          35.955056\n",
       "Latitude           35.955056\n",
       "Payload             0.000000\n",
       "Launch_Outcome      0.000000\n",
       "Booster_Landing     0.000000\n",
       "Booster_Version     0.000000\n",
       "Customer            0.000000\n",
       "Orbit               0.000000\n",
       "Payload_Mass        0.000000\n",
       "Time (UTC)          0.000000\n",
       "Launch_Site         0.000000\n",
       "Facility            0.000000\n",
       "Complex             0.000000\n",
       "Flight_Number       0.000000\n",
       "dtype: float64"
      ]
     },
     "execution_count": 48,
     "metadata": {},
     "output_type": "execute_result"
    }
   ],
   "source": [
    "df.isnull().sum()/df.count()*100"
   ]
  },
  {
   "cell_type": "markdown",
   "metadata": {},
   "source": [
    "Identify which columns are numerical and categorical:\n"
   ]
  },
  {
   "cell_type": "code",
   "execution_count": 49,
   "metadata": {},
   "outputs": [
    {
     "name": "stdout",
     "output_type": "stream",
     "text": [
      "<class 'pandas.core.frame.DataFrame'>\n",
      "RangeIndex: 121 entries, 0 to 120\n",
      "Data columns (total 25 columns):\n",
      " #   Column           Non-Null Count  Dtype              \n",
      "---  ------           --------------  -----              \n",
      " 0   date_utc         89 non-null     datetime64[ns, UTC]\n",
      " 1   Date             121 non-null    datetime64[ns]     \n",
      " 2   Mission_Outcome  89 non-null     object             \n",
      " 3   Flights          89 non-null     float64            \n",
      " 4   GridFins         89 non-null     object             \n",
      " 5   Reused           89 non-null     object             \n",
      " 6   Legs             89 non-null     object             \n",
      " 7   Landing_Pad      63 non-null     object             \n",
      " 8   Block            89 non-null     float64            \n",
      " 9   Reused_Count     89 non-null     float64            \n",
      " 10  Serial           89 non-null     object             \n",
      " 11  Longitude        89 non-null     float64            \n",
      " 12  Latitude         89 non-null     float64            \n",
      " 13  Payload          121 non-null    object             \n",
      " 14  Launch_Outcome   121 non-null    object             \n",
      " 15  Booster_Landing  121 non-null    object             \n",
      " 16  Booster_Version  121 non-null    object             \n",
      " 17  Customer         121 non-null    object             \n",
      " 18  Orbit            121 non-null    object             \n",
      " 19  Payload_Mass     121 non-null    object             \n",
      " 20  Time (UTC)       121 non-null    object             \n",
      " 21  Launch_Site      121 non-null    object             \n",
      " 22  Facility         121 non-null    object             \n",
      " 23  Complex          121 non-null    object             \n",
      " 24  Flight_Number    121 non-null    int64              \n",
      "dtypes: datetime64[ns, UTC](1), datetime64[ns](1), float64(5), int64(1), object(17)\n",
      "memory usage: 23.8+ KB\n"
     ]
    }
   ],
   "source": [
    "df.info()"
   ]
  },
  {
   "attachments": {},
   "cell_type": "markdown",
   "metadata": {},
   "source": [
    "### TASK 1: Calculation of the number of launches on each site\n",
    "\n",
    "The dataset comprises several SpaceX launch facilities, including:\n",
    "- <a href='https://en.wikipedia.org/wiki/List_of_Cape_Canaveral_and_Merritt_Island_launch_sites?utm_medium=Exinfluencer&utm_source=Exinfluencer&utm_content=000026UJ&utm_term=10006555&utm_id=NA-SkillsNetwork-Channel-SkillsNetworkCoursesIBMDS0321ENSkillsNetwork26802033-2022-01-01'>**Cape Canaveral Space**</a> (CCSC), Launch Complex 40 (LC-40), **CCSC LC-40**\n",
    "- **Vandenberg Air Force Base Space** (VAFB), Launch Complex 4E (SLC-4E), <b>VAFB SLC-4E </b> \n",
    "- **Kennedy Space Center** (KSC), Launch Complex 39A (LC-39A), <b>KSC LC-39A </b>.\n",
    "\n",
    "The location of each launch is recorded in the `Launch_Site` column.\n",
    "\n",
    "\n",
    "Subsequently, the number of launches for each site shall be determined.\n",
    "\n",
    "The method <code>value_counts()</code> is to be utilised on the <code>LaunchSite</code> column, thereby ascertaining the number of launches per site:\n",
    "\n"
   ]
  },
  {
   "cell_type": "code",
   "execution_count": 50,
   "metadata": {},
   "outputs": [
    {
     "data": {
      "text/plain": [
       "Launch_Site\n",
       "CCSFS SLC-40    72\n",
       "KSC LC-39A      33\n",
       "VAFB SLC-4E     16\n",
       "Name: count, dtype: int64"
      ]
     },
     "execution_count": 50,
     "metadata": {},
     "output_type": "execute_result"
    }
   ],
   "source": [
    "# Apply value_counts() on column Launch_Site\n",
    "df['Launch_Site'].value_counts()"
   ]
  },
  {
   "cell_type": "markdown",
   "metadata": {},
   "source": [
    "Each launch aims to an dedicated orbit, and here are some common orbit types:\n"
   ]
  },
  {
   "cell_type": "markdown",
   "metadata": {},
   "source": [
    "### TASK 2: Calculation of the number and occurrence of each orbit\n"
   ]
  },
  {
   "cell_type": "markdown",
   "metadata": {},
   "source": [
    "*   <b>LEO</b>: Low Earth orbit (LEO)is an Earth-centred orbit with an altitude of 2,000 km (1,200 mi) or less (approximately one-third of the radius of Earth),\\[1] or with at least 11.25 periods per day (an orbital period of 128 minutes or less) and an eccentricity less than 0.25.\\[2] Most of the manmade objects in outer space are in LEO <a href='https://en.wikipedia.org/wiki/Low_Earth_orbit?utm_medium=Exinfluencer&utm_source=Exinfluencer&utm_content=000026UJ&utm_term=10006555&utm_id=NA-SkillsNetwork-Channel-SkillsNetworkCoursesIBMDS0321ENSkillsNetwork26802033-2022-01-01'>\\[1]</a>.\n",
    "\n",
    "*   <b>VLEO</b>: Very Low Earth Orbits (VLEO) can be defined as the orbits with a mean altitude below 450 km. Operating in these orbits can provide a number of benefits to Earth observation spacecraft as the spacecraft operates closer to the observation<a href='https://www.researchgate.net/publication/271499606_Very_Low_Earth_Orbit_mission_concepts_for_Earth_Observation_Benefits_and_challenges?utm_medium=Exinfluencer&utm_source=Exinfluencer&utm_content=000026UJ&utm_term=10006555&utm_id=NA-SkillsNetwork-Channel-SkillsNetworkCoursesIBMDS0321ENSkillsNetwork26802033-2022-01-01'>\\[2]</a>.\n",
    "\n",
    "*   <b>GTO</b> A geosynchronous orbit is a high Earth orbit that allows satellites to match Earth's rotation. Located at 22,236 miles (35,786 kilometers) above Earth's equator, this position is a valuable spot for monitoring weather, communications and surveillance. Because the satellite orbits at the same speed that the Earth is turning, the satellite seems to stay in place over a single longitude, though it may drift north to south,” NASA wrote on its Earth Observatory website <a  href=\"https://www.space.com/29222-geosynchronous-orbit.html?utm_medium=Exinfluencer&utm_source=Exinfluencer&utm_content=000026UJ&utm_term=10006555&utm_id=NA-SkillsNetwork-Channel-SkillsNetworkCoursesIBMDS0321ENSkillsNetwork26802033-2022-01-01\" >\\[3] </a>.\n",
    "\n",
    "*   <b>SSO (or SO)</b>: It is a Sun-synchronous orbit  also called a heliosynchronous orbit is a nearly polar orbit around a planet, in which the satellite passes over any given point of the planet's surface at the same local mean solar time <a href=\"https://en.wikipedia.org/wiki/Sun-synchronous_orbit?utm_medium=Exinfluencer&utm_source=Exinfluencer&utm_content=000026UJ&utm_term=10006555&utm_id=NA-SkillsNetwork-Channel-SkillsNetworkCoursesIBMDS0321ENSkillsNetwork26802033-2022-01-01\">\\[4] <a>.\n",
    "\n",
    "*   <b>ES-L1 </b>:At the Lagrange points the gravitational forces of the two large bodies cancel out in such a way that a small object placed in orbit there is in equilibrium relative to the center of mass of the large bodies. L1 is one such point between the sun and the earth <a href=\"https://en.wikipedia.org/wiki/Lagrange_point?utm_medium=Exinfluencer&utm_source=Exinfluencer&utm_content=000026UJ&utm_term=10006555&utm_id=NA-SkillsNetwork-Channel-SkillsNetworkCoursesIBMDS0321ENSkillsNetwork26802033-2022-01-01#L1_point\">\\[5]</a> .\n",
    "\n",
    "*   <b>HEO</b> A highly elliptical orbit, is an elliptic orbit with high eccentricity, usually referring to one around Earth <a href=\"https://en.wikipedia.org/wiki/Highly_elliptical_orbit?utm_medium=Exinfluencer&utm_source=Exinfluencer&utm_content=000026UJ&utm_term=10006555&utm_id=NA-SkillsNetwork-Channel-SkillsNetworkCoursesIBMDS0321ENSkillsNetwork26802033-2022-01-01\">\\[6]</a>.\n",
    "\n",
    "*   <b> ISS </b> A modular space station (habitable artificial satellite) in low Earth orbit. It is a multinational collaborative project between five participating space agencies: NASA (United States), Roscosmos (Russia), JAXA (Japan), ESA (Europe), and CSA (Canada)<a href=\"https://en.wikipedia.org/wiki/International_Space_Station?utm_medium=Exinfluencer&utm_source=Exinfluencer&utm_content=000026UJ&utm_term=10006555&utm_id=NA-SkillsNetwork-Channel-SkillsNetworkCoursesIBMDS0321ENSkillsNetwork26802033-2022-01-01\"> \\[7] </a>\n",
    "\n",
    "*   <b> MEO </b> Geocentric orbits ranging in altitude from 2,000 km (1,200 mi) to just below geosynchronous orbit at 35,786 kilometers (22,236 mi). Also known as an intermediate circular orbit. These are \"most commonly at 20,200 kilometers (12,600 mi), or 20,650 kilometers (12,830 mi), with an orbital period of 12 hours <a href=\"https://en.wikipedia.org/wiki/List_of_orbits?utm_medium=Exinfluencer&utm_source=Exinfluencer&utm_content=000026UJ&utm_term=10006555&utm_id=NA-SkillsNetwork-Channel-SkillsNetworkCoursesIBMDS0321ENSkillsNetwork26802033-2022-01-01\"> \\[8] </a>\n",
    "\n",
    "*   <b> HEO </b> Geocentric orbits above the altitude of geosynchronous orbit (35,786 km or 22,236 mi) <a href=\"https://en.wikipedia.org/wiki/List_of_orbits?utm_medium=Exinfluencer&utm_source=Exinfluencer&utm_content=000026UJ&utm_term=10006555&utm_id=NA-SkillsNetwork-Channel-SkillsNetworkCoursesIBMDS0321ENSkillsNetwork26802033-2022-01-01\"> \\[9] </a>\n",
    "\n",
    "*   <b> GEO </b> It is a circular geosynchronous orbit 35,786 kilometres (22,236 miles) above Earth's equator and following the direction of Earth's rotation <a href=\"https://en.wikipedia.org/wiki/Geostationary_orbit?utm_medium=Exinfluencer&utm_source=Exinfluencer&utm_content=000026UJ&utm_term=10006555&utm_id=NA-SkillsNetwork-Channel-SkillsNetworkCoursesIBMDS0321ENSkillsNetwork26802033-2022-01-01\"> \\[10] </a>\n",
    "\n",
    "*   <b> PO </b> It is one type of satellites in which a satellite passes above or nearly above both poles of the body being orbited (usually a planet such as the Earth <a href=\"https://en.wikipedia.org/wiki/Polar_orbit?utm_medium=Exinfluencer&utm_source=Exinfluencer&utm_content=000026UJ&utm_term=10006555&utm_id=NA-SkillsNetwork-Channel-SkillsNetworkCoursesIBMDS0321ENSkillsNetwork26802033-2022-01-01\"> \\[11] </a>\n",
    "\n",
    "some are shown in the following plot:\n"
   ]
  },
  {
   "cell_type": "markdown",
   "metadata": {},
   "source": [
    "![](./images/Orbits.png)\n"
   ]
  },
  {
   "cell_type": "markdown",
   "metadata": {},
   "source": [
    "The method  <code>.value_counts()</code> was used to determine the number and occurrence of each orbit in the  column <code>Orbit</code>.\n"
   ]
  },
  {
   "cell_type": "code",
   "execution_count": 51,
   "metadata": {},
   "outputs": [
    {
     "data": {
      "text/plain": [
       "Orbit\n",
       "GTO      32\n",
       "LEO      30\n",
       "ISS      21\n",
       "VLEO     14\n",
       "PO       10\n",
       "SSO       8\n",
       "MEO       3\n",
       "ES-L1     1\n",
       "HEO       1\n",
       "GEO       1\n",
       "Name: count, dtype: int64"
      ]
     },
     "metadata": {},
     "output_type": "display_data"
    }
   ],
   "source": [
    "# Filter Orbit values\n",
    "mapping = {\n",
    "    'Polar': 'PO',         \n",
    "    'SO': 'SSO'        \n",
    "}\n",
    "# Apply the mapping to update values in the 'Orbit' column.\n",
    "df['Orbit'] = df['Orbit'].replace(mapping)\n",
    "\n",
    "# Apply value_counts on Orbit column\n",
    "display(df['Orbit'].value_counts())"
   ]
  },
  {
   "cell_type": "code",
   "execution_count": 52,
   "metadata": {},
   "outputs": [
    {
     "data": {
      "text/html": [
       "<div>\n",
       "<style scoped>\n",
       "    .dataframe tbody tr th:only-of-type {\n",
       "        vertical-align: middle;\n",
       "    }\n",
       "\n",
       "    .dataframe tbody tr th {\n",
       "        vertical-align: top;\n",
       "    }\n",
       "\n",
       "    .dataframe thead th {\n",
       "        text-align: right;\n",
       "    }\n",
       "</style>\n",
       "<table border=\"1\" class=\"dataframe\">\n",
       "  <thead>\n",
       "    <tr style=\"text-align: right;\">\n",
       "      <th></th>\n",
       "      <th>orbits</th>\n",
       "      <th>names</th>\n",
       "      <th>heights</th>\n",
       "    </tr>\n",
       "  </thead>\n",
       "  <tbody>\n",
       "    <tr>\n",
       "      <th>0</th>\n",
       "      <td>VLEO</td>\n",
       "      <td>Very Low Earth Orbit</td>\n",
       "      <td>300</td>\n",
       "    </tr>\n",
       "    <tr>\n",
       "      <th>1</th>\n",
       "      <td>ISS</td>\n",
       "      <td>International Space Station Orbit</td>\n",
       "      <td>400</td>\n",
       "    </tr>\n",
       "    <tr>\n",
       "      <th>2</th>\n",
       "      <td>SSO</td>\n",
       "      <td>Sun-Synchronous Orbit</td>\n",
       "      <td>700</td>\n",
       "    </tr>\n",
       "    <tr>\n",
       "      <th>3</th>\n",
       "      <td>PO</td>\n",
       "      <td>Polar Orbit</td>\n",
       "      <td>800</td>\n",
       "    </tr>\n",
       "    <tr>\n",
       "      <th>4</th>\n",
       "      <td>LEO</td>\n",
       "      <td>Low Earth Orbit</td>\n",
       "      <td>1000</td>\n",
       "    </tr>\n",
       "    <tr>\n",
       "      <th>5</th>\n",
       "      <td>GTO</td>\n",
       "      <td>Geosynchronous Transfer Orbit</td>\n",
       "      <td>18000</td>\n",
       "    </tr>\n",
       "    <tr>\n",
       "      <th>6</th>\n",
       "      <td>HEO</td>\n",
       "      <td>Highly Elliptical Orbit</td>\n",
       "      <td>20200</td>\n",
       "    </tr>\n",
       "    <tr>\n",
       "      <th>7</th>\n",
       "      <td>MEO</td>\n",
       "      <td>Medium Earth Orbit</td>\n",
       "      <td>20200</td>\n",
       "    </tr>\n",
       "    <tr>\n",
       "      <th>8</th>\n",
       "      <td>GEO</td>\n",
       "      <td>Geostationary Orbit</td>\n",
       "      <td>35786</td>\n",
       "    </tr>\n",
       "    <tr>\n",
       "      <th>9</th>\n",
       "      <td>ES-L1</td>\n",
       "      <td>Earth–Sun Lagrange Point L1</td>\n",
       "      <td>1500000</td>\n",
       "    </tr>\n",
       "  </tbody>\n",
       "</table>\n",
       "</div>"
      ],
      "text/plain": [
       "  orbits                              names  heights\n",
       "0   VLEO               Very Low Earth Orbit      300\n",
       "1    ISS  International Space Station Orbit      400\n",
       "2    SSO              Sun-Synchronous Orbit      700\n",
       "3     PO                        Polar Orbit      800\n",
       "4    LEO                    Low Earth Orbit     1000\n",
       "5    GTO      Geosynchronous Transfer Orbit    18000\n",
       "6    HEO            Highly Elliptical Orbit    20200\n",
       "7    MEO                 Medium Earth Orbit    20200\n",
       "8    GEO                Geostationary Orbit    35786\n",
       "9  ES-L1        Earth–Sun Lagrange Point L1  1500000"
      ]
     },
     "execution_count": 52,
     "metadata": {},
     "output_type": "execute_result"
    }
   ],
   "source": [
    "# Define orbit details sorted by increasing average altitude\n",
    "data = {\n",
    "    'orbits': ['VLEO', 'ISS', 'SSO', 'PO', 'LEO', 'GTO', 'HEO', 'MEO', 'GEO', 'ES-L1'],\n",
    "    'names': [\n",
    "        'Very Low Earth Orbit',\n",
    "        'International Space Station Orbit',\n",
    "        'Sun-Synchronous Orbit',\n",
    "        'Polar Orbit',\n",
    "        'Low Earth Orbit',\n",
    "        'Geosynchronous Transfer Orbit',\n",
    "        'Highly Elliptical Orbit',\n",
    "        'Medium Earth Orbit',\n",
    "        'Geostationary Orbit',\n",
    "        'Earth–Sun Lagrange Point L1'\n",
    "    ],\n",
    "    'heights': [300, 400, 700, 800, 1000, 18000, 20200, 20200, 35786, 1500000]\n",
    "}\n",
    "\n",
    "# Create the dataframe\n",
    "orbits_df = pd.DataFrame(data)\n",
    "orbits_df"
   ]
  },
  {
   "cell_type": "markdown",
   "metadata": {},
   "source": [
    "### TASK 3: Calculation of the number and occurence of mission outcome per orbit type\n"
   ]
  },
  {
   "cell_type": "markdown",
   "metadata": {},
   "source": [
    "Occurence can be calculated per orbit type in the following:"
   ]
  },
  {
   "cell_type": "code",
   "execution_count": 53,
   "metadata": {},
   "outputs": [
    {
     "data": {
      "text/plain": [
       "Orbit  Mission_Outcome\n",
       "ES-L1  True Ocean          1\n",
       "GEO    True ASDS           1\n",
       "GTO    False ASDS          1\n",
       "       None None          11\n",
       "       True ASDS          13\n",
       "       True Ocean          1\n",
       "HEO    True ASDS           1\n",
       "ISS    False ASDS          2\n",
       "       False Ocean         1\n",
       "       False RTLS          1\n",
       "       None ASDS           1\n",
       "       None None           3\n",
       "       True ASDS           5\n",
       "       True Ocean          1\n",
       "       True RTLS           7\n",
       "LEO    None None           2\n",
       "       True Ocean          1\n",
       "       True RTLS           4\n",
       "MEO    None None           1\n",
       "       True ASDS           2\n",
       "PO     False ASDS          1\n",
       "       False Ocean         1\n",
       "       None None           1\n",
       "       True ASDS           5\n",
       "       True Ocean          1\n",
       "SSO    None None           1\n",
       "       True ASDS           2\n",
       "       True RTLS           3\n",
       "VLEO   False ASDS          2\n",
       "       True ASDS          12\n",
       "Name: count, dtype: int64"
      ]
     },
     "execution_count": 53,
     "metadata": {},
     "output_type": "execute_result"
    }
   ],
   "source": [
    "df.value_counts(['Orbit','Mission_Outcome'],sort=False)"
   ]
  },
  {
   "cell_type": "markdown",
   "metadata": {},
   "source": [
    "### TASK 4: Creation of a landing outcome label from Outcome column\n"
   ]
  },
  {
   "cell_type": "markdown",
   "metadata": {},
   "source": [
    "The method <code>.value_counts()</code> will be applied to  <code>Mission_Outcome</code> and  `Booster_Landing` columns to determine the number of <code>landing_outcomes</code>, and the result will then be assigned to the variable <code>landing_outcomes</code>."
   ]
  },
  {
   "cell_type": "code",
   "execution_count": 54,
   "metadata": {},
   "outputs": [
    {
     "data": {
      "text/plain": [
       "Mission_Outcome\n",
       "True ASDS      41\n",
       "None None      19\n",
       "True RTLS      14\n",
       "False ASDS      6\n",
       "True Ocean      5\n",
       "False Ocean     2\n",
       "None ASDS       1\n",
       "False RTLS      1\n",
       "Name: count, dtype: int64"
      ]
     },
     "execution_count": 54,
     "metadata": {},
     "output_type": "execute_result"
    }
   ],
   "source": [
    "# landing_outcomes = values on Outcome column\n",
    "landing_outcomes = df['Mission_Outcome'].value_counts()\n",
    "\n",
    "landing_outcomes"
   ]
  },
  {
   "cell_type": "markdown",
   "metadata": {},
   "source": [
    "The following bullet points have been prepared to clarify the designations utilised in representing the outcomes of mission landings:\n",
    "\n",
    "- **`True Ocean`** represents a mission outcome in which a successful landing was achieved in a designated region of the ocean.\n",
    "- **`False Ocean`** represents a mission outcome in which the landing was unsuccessful.\n",
    "- **`True RTLS`** represents a mission outcome in which a successful landing was accomplished on a ground pad.\n",
    "- **`False RTLS`** represents a mission outcome in which the landing was unsuccessful.\n",
    "- **`True ASDS`** represents a mission outcome in which a successful landing was accomplished on a drone ship.\n",
    "- **`False ASDS`** represents a mission outcome in which the landing was unsuccessful.\n",
    "- **`None ASDS`** and **`None None`** are utilised to denote a failure to land.\n",
    "\n"
   ]
  },
  {
   "cell_type": "code",
   "execution_count": 55,
   "metadata": {},
   "outputs": [
    {
     "name": "stdout",
     "output_type": "stream",
     "text": [
      "0 True ASDS\n",
      "1 None None\n",
      "2 True RTLS\n",
      "3 False ASDS\n",
      "4 True Ocean\n",
      "5 False Ocean\n",
      "6 None ASDS\n",
      "7 False RTLS\n"
     ]
    }
   ],
   "source": [
    "for i,outcome in enumerate(landing_outcomes.keys()):\n",
    "    print(i,outcome)"
   ]
  },
  {
   "cell_type": "markdown",
   "metadata": {},
   "source": [
    "A set of outcomes where the second stage did not land successfully will be created:\n"
   ]
  },
  {
   "cell_type": "code",
   "execution_count": 56,
   "metadata": {},
   "outputs": [
    {
     "data": {
      "text/plain": [
       "{'False ASDS', 'False Ocean', 'False RTLS', 'None ASDS', 'None None'}"
      ]
     },
     "execution_count": 56,
     "metadata": {},
     "output_type": "execute_result"
    }
   ],
   "source": [
    "bad_outcomes=set(landing_outcomes.keys()[[1,3,5,6,7]])\n",
    "bad_outcomes"
   ]
  },
  {
   "cell_type": "code",
   "execution_count": 57,
   "metadata": {},
   "outputs": [
    {
     "data": {
      "text/plain": [
       "Booster_Landing\n",
       "Success         80\n",
       "No attempt      22\n",
       "Failure         11\n",
       "Controlled       5\n",
       "Uncontrolled     2\n",
       "Precluded        1\n",
       "Name: count, dtype: int64"
      ]
     },
     "execution_count": 57,
     "metadata": {},
     "output_type": "execute_result"
    }
   ],
   "source": [
    "booster_outcomes = df['Booster_Landing'].value_counts()\n",
    "booster_outcomes"
   ]
  },
  {
   "cell_type": "code",
   "execution_count": 58,
   "metadata": {},
   "outputs": [
    {
     "name": "stdout",
     "output_type": "stream",
     "text": [
      "0 Success\n",
      "1 No attempt\n",
      "2 Failure\n",
      "3 Controlled\n",
      "4 Uncontrolled\n",
      "5 Precluded\n"
     ]
    }
   ],
   "source": [
    "for i,outcome in enumerate(booster_outcomes.keys()):\n",
    "    print(i,outcome)"
   ]
  },
  {
   "cell_type": "code",
   "execution_count": 59,
   "metadata": {},
   "outputs": [
    {
     "data": {
      "text/plain": [
       "{'Failure', 'No attempt', 'Precluded', 'Uncontrolled'}"
      ]
     },
     "execution_count": 59,
     "metadata": {},
     "output_type": "execute_result"
    }
   ],
   "source": [
    "bad_outcomes_wk=set(booster_outcomes.keys()[[1,2,4,5]])\n",
    "bad_outcomes_wk"
   ]
  },
  {
   "cell_type": "markdown",
   "metadata": {},
   "source": [
    "Using the <code>Outcome</code> sets,  a list will be created where the element is zero if the corresponding  row  in  <code>Outcome</code> is in the set <code>bad_outcome</code> or the `outcome_wk` is in the set `bad_outcomes_wk`; otherwise, would be one. Subsequently, it will be assigned to the variable <code>landing_class</code>:\n"
   ]
  },
  {
   "cell_type": "code",
   "execution_count": 60,
   "metadata": {},
   "outputs": [],
   "source": [
    "landing_class = []\n",
    "length = len(df['Mission_Outcome'])\n",
    "\n",
    "for i in range(length):\n",
    "    outcome = df['Mission_Outcome'].iloc[i]\n",
    "    outcome_wk = df['Booster_Landing'].iloc[i] \n",
    "    \n",
    "    if outcome in bad_outcomes:\n",
    "        landing_class.append(0)\n",
    "    elif pd.isna(outcome): \n",
    "        landing_class.append(0 if outcome_wk in bad_outcomes_wk else 1)\n",
    "    else:\n",
    "        landing_class.append(1)\n"
   ]
  },
  {
   "cell_type": "markdown",
   "metadata": {},
   "source": [
    "This variable is utilised as the classification variable representing the outcome of each launch. A value of zero, indicates the  first stage did **not land successfully**; whereas a value of one means  the first stage landed **Successfully**."
   ]
  },
  {
   "cell_type": "code",
   "execution_count": 61,
   "metadata": {},
   "outputs": [],
   "source": [
    "df['Class']=landing_class"
   ]
  },
  {
   "cell_type": "markdown",
   "metadata": {},
   "source": [
    "The following line of code is to determine  the success rate:\n"
   ]
  },
  {
   "cell_type": "code",
   "execution_count": 62,
   "metadata": {},
   "outputs": [
    {
     "data": {
      "text/plain": [
       "0.7024793388429752"
      ]
     },
     "execution_count": 62,
     "metadata": {},
     "output_type": "execute_result"
    }
   ],
   "source": [
    "float(df[\"Class\"].mean())"
   ]
  },
  {
   "cell_type": "code",
   "execution_count": 63,
   "metadata": {},
   "outputs": [
    {
     "data": {
      "text/plain": [
       "Class  Booster_Landing  Mission_Outcome\n",
       "0      No attempt       None None          18\n",
       "       Failure          False ASDS          6\n",
       "       No attempt       NaN                 4\n",
       "       Failure          NaN                 3\n",
       "       Uncontrolled     False Ocean         2\n",
       "       Failure          False RTLS          1\n",
       "                        None None           1\n",
       "       Precluded        None ASDS           1\n",
       "1      Success          True ASDS          41\n",
       "                        NaN                25\n",
       "                        True RTLS          14\n",
       "       Controlled       True Ocean          5\n",
       "Name: count, dtype: int64"
      ]
     },
     "execution_count": 63,
     "metadata": {},
     "output_type": "execute_result"
    }
   ],
   "source": [
    "df[['Class', 'Booster_Landing', 'Mission_Outcome']].groupby('Class').value_counts(dropna=False)"
   ]
  },
  {
   "cell_type": "markdown",
   "metadata": {},
   "source": [
    "The number and occurence of mission outcome per orbit type can be calculated in the following:"
   ]
  },
  {
   "cell_type": "code",
   "execution_count": 64,
   "metadata": {},
   "outputs": [
    {
     "data": {
      "text/plain": [
       "Orbit  Class\n",
       "ES-L1  1         1\n",
       "GEO    1         1\n",
       "GTO    0        14\n",
       "       1        18\n",
       "HEO    1         1\n",
       "ISS    0         8\n",
       "       1        13\n",
       "LEO    0         5\n",
       "       1        25\n",
       "MEO    0         1\n",
       "       1         2\n",
       "PO     0         4\n",
       "       1         6\n",
       "SSO    0         2\n",
       "       1         6\n",
       "VLEO   0         2\n",
       "       1        12\n",
       "Name: count, dtype: int64"
      ]
     },
     "execution_count": 64,
     "metadata": {},
     "output_type": "execute_result"
    }
   ],
   "source": [
    "df.value_counts(['Orbit','Class'],sort=False)"
   ]
  },
  {
   "cell_type": "markdown",
   "metadata": {},
   "source": [
    "### TASK 5: Clean data"
   ]
  },
  {
   "cell_type": "markdown",
   "metadata": {},
   "source": [
    "The columns of the dataframe will be sorted for clarity:"
   ]
  },
  {
   "cell_type": "code",
   "execution_count": 65,
   "metadata": {},
   "outputs": [],
   "source": [
    "desired_sort = ['Date',    \n",
    "                'Time (UTC)',  \n",
    "                'Booster_Version',                \n",
    "                'Serial',       \n",
    "                'Launch_Site', \n",
    "                'Facility', \n",
    "                'Complex', \n",
    "                'Longitude',    \n",
    "                'Latitude', \n",
    "                'Payload', \n",
    "                'Payload_Mass',\n",
    "                'Customer', \n",
    "                'Orbit',     \n",
    "                'Mission_Outcome', \n",
    "                'Launch_Outcome', \n",
    "                'Booster_Landing',  \n",
    "                'Landing_Pad', \n",
    "                'Block', \n",
    "                'Flights', \n",
    "                'GridFins',       \n",
    "                'Legs', \n",
    "                'Reused', \n",
    "                'Reused_Count', \n",
    "                'date_utc', \n",
    "                'Flight_Number',       \n",
    "                'Class']\n",
    "df=df[desired_sort]"
   ]
  },
  {
   "cell_type": "markdown",
   "metadata": {},
   "source": [
    " The `Payload_Mass` is cleaned up to ensure numeric values:"
   ]
  },
  {
   "cell_type": "code",
   "execution_count": 66,
   "metadata": {},
   "outputs": [],
   "source": [
    "# Clean the Payload_Mass column by removing unwanted substrings and whitespace.\n",
    "df['Payload_Mass'] = pd.to_numeric(df['Payload_Mass'].astype('str').str.replace(r'[^\\d.]', '', regex=True)).fillna(0).astype(float)\n"
   ]
  },
  {
   "cell_type": "markdown",
   "metadata": {},
   "source": [
    "Then certain columns are converted to categorical:"
   ]
  },
  {
   "cell_type": "code",
   "execution_count": 67,
   "metadata": {},
   "outputs": [],
   "source": [
    "import pandas as pd\n",
    "\n",
    "# Define the list of columns to convert to category (excluding 'Orbit')\n",
    "cols = ['Block', 'Launch_Site', 'Facility', 'Complex', 'Booster_Landing', \n",
    "        'Landing_Pad', 'GridFins', 'Legs', 'Reused', 'Launch_Outcome']\n",
    "\n",
    "# Convert the specified columns to the 'category' data type\n",
    "df[cols] = df[cols].astype('category')\n",
    "\n",
    "# Define the sorted order for orbits by average altitude (in km)\n",
    "orbit_order = ['VLEO', 'ISS', 'SSO', 'PO', 'LEO', 'GTO', 'HEO', 'MEO', 'GEO', 'ES-L1']\n",
    "\n",
    "# Convert the 'Orbit' column to a sorted categorical type\n",
    "df['Orbit'] = pd.Categorical(df['Orbit'], categories=orbit_order, ordered=True)\n"
   ]
  },
  {
   "cell_type": "markdown",
   "metadata": {},
   "source": [
    "#### Fill null values.\n",
    "- Latitude and Longitude will be fill according to the launch site."
   ]
  },
  {
   "cell_type": "code",
   "execution_count": 68,
   "metadata": {},
   "outputs": [
    {
     "data": {
      "text/plain": [
       "Launch_Site   Longitude    Latitude \n",
       "CCSFS SLC-40  -80.577366   28.561857    54\n",
       "KSC LC-39A    -80.603956   28.608058    22\n",
       "CCSFS SLC-40   NaN         NaN          18\n",
       "VAFB SLC-4E   -120.610829  34.632093    13\n",
       "KSC LC-39A     NaN         NaN          11\n",
       "VAFB SLC-4E    NaN         NaN           3\n",
       "Name: count, dtype: int64"
      ]
     },
     "execution_count": 68,
     "metadata": {},
     "output_type": "execute_result"
    }
   ],
   "source": [
    "launch_sites=df[['Launch_Site','Longitude', 'Latitude']]\n",
    "launch_sites.value_counts(dropna=False)"
   ]
  },
  {
   "cell_type": "code",
   "execution_count": 69,
   "metadata": {},
   "outputs": [],
   "source": [
    "df['Longitude'] = df['Longitude'].fillna(df.groupby('Launch_Site', observed=True)['Longitude'].transform('first'))\n",
    "df['Latitude']  = df['Latitude'].fillna(df.groupby('Launch_Site', observed=True)['Latitude'].transform('first'))"
   ]
  },
  {
   "cell_type": "markdown",
   "metadata": {},
   "source": [
    "- Column  `Serial` empty values will be filled with the string 'Other'."
   ]
  },
  {
   "cell_type": "code",
   "execution_count": 70,
   "metadata": {},
   "outputs": [],
   "source": [
    "df['Serial'] = df['Serial'].fillna('Other')"
   ]
  },
  {
   "cell_type": "markdown",
   "metadata": {},
   "source": [
    "- `Mission Outcome` empty values will be filled with **Success** or **Failure** according to the value in `Class` column "
   ]
  },
  {
   "cell_type": "code",
   "execution_count": 71,
   "metadata": {},
   "outputs": [],
   "source": [
    "# Define the function to fill missing values based on the 'Class' column\n",
    "def fill_outcome(row):\n",
    "    if pd.isna(row['Mission_Outcome']):\n",
    "        if row['Class'] == 1:\n",
    "            return 'Success'\n",
    "        elif row['Class'] == 0:\n",
    "            return 'Failure'\n",
    "    return row['Mission_Outcome']\n",
    "\n",
    "# Apply the function row-wise to update the 'Mission outcome' column\n",
    "df['Mission_Outcome'] = df.apply(fill_outcome, axis=1)"
   ]
  },
  {
   "cell_type": "markdown",
   "metadata": {},
   "source": [
    "- `date_utc` fill empty values with the union of the `Date` and `Time` values."
   ]
  },
  {
   "cell_type": "code",
   "execution_count": 72,
   "metadata": {},
   "outputs": [],
   "source": [
    "# Create a mask for rows with missing 'date_utc'\n",
    "mask = df['date_utc'].isna()\n",
    "\n",
    "# For the missing rows, combine 'Date' and 'Time', convert to datetime, and localise to UTC\n",
    "df.loc[mask, 'date_utc'] = pd.to_datetime(df.loc[mask, 'Date'].dt.strftime('%Y-%m-%d') + ' ' + df.loc[mask, 'Time (UTC)']\n",
    ").dt.tz_localize('UTC')"
   ]
  },
  {
   "cell_type": "markdown",
   "metadata": {},
   "source": [
    "A boxplot of `Payload_Mass` is created to check for outliers:"
   ]
  },
  {
   "cell_type": "code",
   "execution_count": 73,
   "metadata": {},
   "outputs": [
    {
     "data": {
      "image/png": "[encoded data removed]",
      "text/plain": [
       "<Figure size 600x200 with 1 Axes>"
      ]
     },
     "metadata": {},
     "output_type": "display_data"
    }
   ],
   "source": [
    "# Set style\n",
    "sns.set_style(\"whitegrid\")\n",
    "\n",
    "# Create the boxplot using seaborn\n",
    "plt.figure(figsize=(6, 2))\n",
    "sns.boxplot(data=df, x='Payload_Mass')\n",
    "\n",
    "# Labels and title\n",
    "plt.xlabel(\"Payload Mass (kg)\")\n",
    "plt.title(\"Boxplot of Payload Mass\")\n",
    "\n",
    "# Show the plot\n",
    "plt.show()\n"
   ]
  },
  {
   "cell_type": "markdown",
   "metadata": {},
   "source": [
    "Finally, the data types and statistics are confirmed:"
   ]
  },
  {
   "cell_type": "code",
   "execution_count": 74,
   "metadata": {},
   "outputs": [
    {
     "name": "stdout",
     "output_type": "stream",
     "text": [
      "<class 'pandas.core.frame.DataFrame'>\n",
      "RangeIndex: 121 entries, 0 to 120\n",
      "Data columns (total 26 columns):\n",
      " #   Column           Non-Null Count  Dtype              \n",
      "---  ------           --------------  -----              \n",
      " 0   Date             121 non-null    datetime64[ns]     \n",
      " 1   Time (UTC)       121 non-null    object             \n",
      " 2   Booster_Version  121 non-null    object             \n",
      " 3   Serial           121 non-null    object             \n",
      " 4   Launch_Site      121 non-null    category           \n",
      " 5   Facility         121 non-null    category           \n",
      " 6   Complex          121 non-null    category           \n",
      " 7   Longitude        121 non-null    float64            \n",
      " 8   Latitude         121 non-null    float64            \n",
      " 9   Payload          121 non-null    object             \n",
      " 10  Payload_Mass     121 non-null    float64            \n",
      " 11  Customer         121 non-null    object             \n",
      " 12  Orbit            121 non-null    category           \n",
      " 13  Mission_Outcome  121 non-null    object             \n",
      " 14  Launch_Outcome   121 non-null    category           \n",
      " 15  Booster_Landing  121 non-null    category           \n",
      " 16  Landing_Pad      63 non-null     category           \n",
      " 17  Block            89 non-null     category           \n",
      " 18  Flights          89 non-null     float64            \n",
      " 19  GridFins         89 non-null     category           \n",
      " 20  Legs             89 non-null     category           \n",
      " 21  Reused           89 non-null     category           \n",
      " 22  Reused_Count     89 non-null     float64            \n",
      " 23  date_utc         121 non-null    datetime64[ns, UTC]\n",
      " 24  Flight_Number    121 non-null    int64              \n",
      " 25  Class            121 non-null    int64              \n",
      "dtypes: category(11), datetime64[ns, UTC](1), datetime64[ns](1), float64(5), int64(2), object(6)\n",
      "memory usage: 17.4+ KB\n"
     ]
    }
   ],
   "source": [
    "df.info()"
   ]
  },
  {
   "cell_type": "code",
   "execution_count": 75,
   "metadata": {},
   "outputs": [
    {
     "data": {
      "text/html": [
       "<div>\n",
       "<style scoped>\n",
       "    .dataframe tbody tr th:only-of-type {\n",
       "        vertical-align: middle;\n",
       "    }\n",
       "\n",
       "    .dataframe tbody tr th {\n",
       "        vertical-align: top;\n",
       "    }\n",
       "\n",
       "    .dataframe thead th {\n",
       "        text-align: right;\n",
       "    }\n",
       "</style>\n",
       "<table border=\"1\" class=\"dataframe\">\n",
       "  <thead>\n",
       "    <tr style=\"text-align: right;\">\n",
       "      <th></th>\n",
       "      <th>Date</th>\n",
       "      <th>Longitude</th>\n",
       "      <th>Latitude</th>\n",
       "      <th>Payload_Mass</th>\n",
       "      <th>Flights</th>\n",
       "      <th>Reused_Count</th>\n",
       "      <th>Flight_Number</th>\n",
       "      <th>Class</th>\n",
       "    </tr>\n",
       "  </thead>\n",
       "  <tbody>\n",
       "    <tr>\n",
       "      <th>count</th>\n",
       "      <td>121</td>\n",
       "      <td>121.000000</td>\n",
       "      <td>121.000000</td>\n",
       "      <td>121.000000</td>\n",
       "      <td>89.000000</td>\n",
       "      <td>89.000000</td>\n",
       "      <td>121.000000</td>\n",
       "      <td>121.000000</td>\n",
       "    </tr>\n",
       "    <tr>\n",
       "      <th>mean</th>\n",
       "      <td>2018-06-03 08:55:32.231405056</td>\n",
       "      <td>-85.878299</td>\n",
       "      <td>29.377133</td>\n",
       "      <td>7097.208994</td>\n",
       "      <td>1.797753</td>\n",
       "      <td>3.224719</td>\n",
       "      <td>61.000000</td>\n",
       "      <td>0.702479</td>\n",
       "    </tr>\n",
       "    <tr>\n",
       "      <th>min</th>\n",
       "      <td>2010-06-04 00:00:00</td>\n",
       "      <td>-120.610829</td>\n",
       "      <td>28.561857</td>\n",
       "      <td>0.000000</td>\n",
       "      <td>1.000000</td>\n",
       "      <td>0.000000</td>\n",
       "      <td>1.000000</td>\n",
       "      <td>0.000000</td>\n",
       "    </tr>\n",
       "    <tr>\n",
       "      <th>25%</th>\n",
       "      <td>2017-03-16 00:00:00</td>\n",
       "      <td>-80.603956</td>\n",
       "      <td>28.561857</td>\n",
       "      <td>2800.000000</td>\n",
       "      <td>1.000000</td>\n",
       "      <td>0.000000</td>\n",
       "      <td>31.000000</td>\n",
       "      <td>0.000000</td>\n",
       "    </tr>\n",
       "    <tr>\n",
       "      <th>50%</th>\n",
       "      <td>2018-09-10 00:00:00</td>\n",
       "      <td>-80.577366</td>\n",
       "      <td>28.561857</td>\n",
       "      <td>5200.000000</td>\n",
       "      <td>1.000000</td>\n",
       "      <td>1.000000</td>\n",
       "      <td>61.000000</td>\n",
       "      <td>1.000000</td>\n",
       "    </tr>\n",
       "    <tr>\n",
       "      <th>75%</th>\n",
       "      <td>2020-08-18 00:00:00</td>\n",
       "      <td>-80.577366</td>\n",
       "      <td>28.608058</td>\n",
       "      <td>12500.000000</td>\n",
       "      <td>2.000000</td>\n",
       "      <td>4.000000</td>\n",
       "      <td>91.000000</td>\n",
       "      <td>1.000000</td>\n",
       "    </tr>\n",
       "    <tr>\n",
       "      <th>max</th>\n",
       "      <td>2021-06-06 00:00:00</td>\n",
       "      <td>-80.577366</td>\n",
       "      <td>34.632093</td>\n",
       "      <td>15600.000000</td>\n",
       "      <td>6.000000</td>\n",
       "      <td>13.000000</td>\n",
       "      <td>121.000000</td>\n",
       "      <td>1.000000</td>\n",
       "    </tr>\n",
       "    <tr>\n",
       "      <th>std</th>\n",
       "      <td>NaN</td>\n",
       "      <td>13.614572</td>\n",
       "      <td>2.059953</td>\n",
       "      <td>5345.876112</td>\n",
       "      <td>1.217111</td>\n",
       "      <td>4.204307</td>\n",
       "      <td>35.073732</td>\n",
       "      <td>0.459068</td>\n",
       "    </tr>\n",
       "  </tbody>\n",
       "</table>\n",
       "</div>"
      ],
      "text/plain": [
       "                                Date   Longitude    Latitude  Payload_Mass  \\\n",
       "count                            121  121.000000  121.000000    121.000000   \n",
       "mean   2018-06-03 08:55:32.231405056  -85.878299   29.377133   7097.208994   \n",
       "min              2010-06-04 00:00:00 -120.610829   28.561857      0.000000   \n",
       "25%              2017-03-16 00:00:00  -80.603956   28.561857   2800.000000   \n",
       "50%              2018-09-10 00:00:00  -80.577366   28.561857   5200.000000   \n",
       "75%              2020-08-18 00:00:00  -80.577366   28.608058  12500.000000   \n",
       "max              2021-06-06 00:00:00  -80.577366   34.632093  15600.000000   \n",
       "std                              NaN   13.614572    2.059953   5345.876112   \n",
       "\n",
       "         Flights  Reused_Count  Flight_Number       Class  \n",
       "count  89.000000     89.000000     121.000000  121.000000  \n",
       "mean    1.797753      3.224719      61.000000    0.702479  \n",
       "min     1.000000      0.000000       1.000000    0.000000  \n",
       "25%     1.000000      0.000000      31.000000    0.000000  \n",
       "50%     1.000000      1.000000      61.000000    1.000000  \n",
       "75%     2.000000      4.000000      91.000000    1.000000  \n",
       "max     6.000000     13.000000     121.000000    1.000000  \n",
       "std     1.217111      4.204307      35.073732    0.459068  "
      ]
     },
     "execution_count": 75,
     "metadata": {},
     "output_type": "execute_result"
    }
   ],
   "source": [
    "df.describe()"
   ]
  },
  {
   "cell_type": "code",
   "execution_count": 76,
   "metadata": {},
   "outputs": [
    {
     "data": {
      "text/html": [
       "<div>\n",
       "<style scoped>\n",
       "    .dataframe tbody tr th:only-of-type {\n",
       "        vertical-align: middle;\n",
       "    }\n",
       "\n",
       "    .dataframe tbody tr th {\n",
       "        vertical-align: top;\n",
       "    }\n",
       "\n",
       "    .dataframe thead th {\n",
       "        text-align: right;\n",
       "    }\n",
       "</style>\n",
       "<table border=\"1\" class=\"dataframe\">\n",
       "  <thead>\n",
       "    <tr style=\"text-align: right;\">\n",
       "      <th></th>\n",
       "      <th>Time (UTC)</th>\n",
       "      <th>Booster_Version</th>\n",
       "      <th>Serial</th>\n",
       "      <th>Payload</th>\n",
       "      <th>Customer</th>\n",
       "      <th>Mission_Outcome</th>\n",
       "    </tr>\n",
       "  </thead>\n",
       "  <tbody>\n",
       "    <tr>\n",
       "      <th>count</th>\n",
       "      <td>121</td>\n",
       "      <td>121</td>\n",
       "      <td>121</td>\n",
       "      <td>121</td>\n",
       "      <td>121</td>\n",
       "      <td>121</td>\n",
       "    </tr>\n",
       "    <tr>\n",
       "      <th>unique</th>\n",
       "      <td>115</td>\n",
       "      <td>22</td>\n",
       "      <td>53</td>\n",
       "      <td>82</td>\n",
       "      <td>42</td>\n",
       "      <td>10</td>\n",
       "    </tr>\n",
       "    <tr>\n",
       "      <th>top</th>\n",
       "      <td>04:45:00</td>\n",
       "      <td>Falcon 9</td>\n",
       "      <td>Other</td>\n",
       "      <td>Starlink</td>\n",
       "      <td>SpaceX</td>\n",
       "      <td>True ASDS</td>\n",
       "    </tr>\n",
       "    <tr>\n",
       "      <th>freq</th>\n",
       "      <td>3</td>\n",
       "      <td>89</td>\n",
       "      <td>32</td>\n",
       "      <td>29</td>\n",
       "      <td>30</td>\n",
       "      <td>41</td>\n",
       "    </tr>\n",
       "  </tbody>\n",
       "</table>\n",
       "</div>"
      ],
      "text/plain": [
       "       Time (UTC) Booster_Version Serial   Payload Customer Mission_Outcome\n",
       "count         121             121    121       121      121             121\n",
       "unique        115              22     53        82       42              10\n",
       "top      04:45:00        Falcon 9  Other  Starlink   SpaceX       True ASDS\n",
       "freq            3              89     32        29       30              41"
      ]
     },
     "execution_count": 76,
     "metadata": {},
     "output_type": "execute_result"
    }
   ],
   "source": [
    "df.describe(include='object')"
   ]
  },
  {
   "cell_type": "code",
   "execution_count": 77,
   "metadata": {},
   "outputs": [
    {
     "data": {
      "text/html": [
       "<div>\n",
       "<style scoped>\n",
       "    .dataframe tbody tr th:only-of-type {\n",
       "        vertical-align: middle;\n",
       "    }\n",
       "\n",
       "    .dataframe tbody tr th {\n",
       "        vertical-align: top;\n",
       "    }\n",
       "\n",
       "    .dataframe thead th {\n",
       "        text-align: right;\n",
       "    }\n",
       "</style>\n",
       "<table border=\"1\" class=\"dataframe\">\n",
       "  <thead>\n",
       "    <tr style=\"text-align: right;\">\n",
       "      <th></th>\n",
       "      <th>Launch_Site</th>\n",
       "      <th>Facility</th>\n",
       "      <th>Complex</th>\n",
       "      <th>Orbit</th>\n",
       "      <th>Launch_Outcome</th>\n",
       "      <th>Booster_Landing</th>\n",
       "      <th>Landing_Pad</th>\n",
       "      <th>Block</th>\n",
       "      <th>GridFins</th>\n",
       "      <th>Legs</th>\n",
       "      <th>Reused</th>\n",
       "    </tr>\n",
       "  </thead>\n",
       "  <tbody>\n",
       "    <tr>\n",
       "      <th>count</th>\n",
       "      <td>121</td>\n",
       "      <td>121</td>\n",
       "      <td>121</td>\n",
       "      <td>121</td>\n",
       "      <td>121</td>\n",
       "      <td>121</td>\n",
       "      <td>63</td>\n",
       "      <td>89.0</td>\n",
       "      <td>89</td>\n",
       "      <td>89</td>\n",
       "      <td>89</td>\n",
       "    </tr>\n",
       "    <tr>\n",
       "      <th>unique</th>\n",
       "      <td>3</td>\n",
       "      <td>3</td>\n",
       "      <td>3</td>\n",
       "      <td>10</td>\n",
       "      <td>2</td>\n",
       "      <td>6</td>\n",
       "      <td>5</td>\n",
       "      <td>5.0</td>\n",
       "      <td>2</td>\n",
       "      <td>2</td>\n",
       "      <td>2</td>\n",
       "    </tr>\n",
       "    <tr>\n",
       "      <th>top</th>\n",
       "      <td>CCSFS SLC-40</td>\n",
       "      <td>CCSFS</td>\n",
       "      <td>SLC-40</td>\n",
       "      <td>GTO</td>\n",
       "      <td>Success</td>\n",
       "      <td>Success</td>\n",
       "      <td>5e9e3032383ecb6bb234e7ca</td>\n",
       "      <td>5.0</td>\n",
       "      <td>True</td>\n",
       "      <td>True</td>\n",
       "      <td>False</td>\n",
       "    </tr>\n",
       "    <tr>\n",
       "      <th>freq</th>\n",
       "      <td>72</td>\n",
       "      <td>72</td>\n",
       "      <td>72</td>\n",
       "      <td>32</td>\n",
       "      <td>120</td>\n",
       "      <td>80</td>\n",
       "      <td>34</td>\n",
       "      <td>39.0</td>\n",
       "      <td>69</td>\n",
       "      <td>70</td>\n",
       "      <td>52</td>\n",
       "    </tr>\n",
       "  </tbody>\n",
       "</table>\n",
       "</div>"
      ],
      "text/plain": [
       "         Launch_Site Facility Complex Orbit Launch_Outcome Booster_Landing  \\\n",
       "count            121      121     121   121            121             121   \n",
       "unique             3        3       3    10              2               6   \n",
       "top     CCSFS SLC-40    CCSFS  SLC-40   GTO        Success         Success   \n",
       "freq              72       72      72    32            120              80   \n",
       "\n",
       "                     Landing_Pad  Block GridFins  Legs Reused  \n",
       "count                         63   89.0       89    89     89  \n",
       "unique                         5    5.0        2     2      2  \n",
       "top     5e9e3032383ecb6bb234e7ca    5.0     True  True  False  \n",
       "freq                          34   39.0       69    70     52  "
      ]
     },
     "execution_count": 77,
     "metadata": {},
     "output_type": "execute_result"
    }
   ],
   "source": [
    "df.describe(include='category')"
   ]
  },
  {
   "cell_type": "code",
   "execution_count": 78,
   "metadata": {},
   "outputs": [
    {
     "data": {
      "text/html": [
       "<div>\n",
       "<style scoped>\n",
       "    .dataframe tbody tr th:only-of-type {\n",
       "        vertical-align: middle;\n",
       "    }\n",
       "\n",
       "    .dataframe tbody tr th {\n",
       "        vertical-align: top;\n",
       "    }\n",
       "\n",
       "    .dataframe thead th {\n",
       "        text-align: right;\n",
       "    }\n",
       "</style>\n",
       "<table border=\"1\" class=\"dataframe\">\n",
       "  <thead>\n",
       "    <tr style=\"text-align: right;\">\n",
       "      <th></th>\n",
       "      <th>Date</th>\n",
       "      <th>Time (UTC)</th>\n",
       "      <th>Booster_Version</th>\n",
       "      <th>Serial</th>\n",
       "      <th>Launch_Site</th>\n",
       "      <th>Facility</th>\n",
       "      <th>Complex</th>\n",
       "      <th>Longitude</th>\n",
       "      <th>Latitude</th>\n",
       "      <th>Payload</th>\n",
       "      <th>Payload_Mass</th>\n",
       "      <th>Customer</th>\n",
       "      <th>Orbit</th>\n",
       "      <th>Mission_Outcome</th>\n",
       "      <th>Launch_Outcome</th>\n",
       "      <th>Booster_Landing</th>\n",
       "      <th>Landing_Pad</th>\n",
       "      <th>Block</th>\n",
       "      <th>Flights</th>\n",
       "      <th>GridFins</th>\n",
       "      <th>Legs</th>\n",
       "      <th>Reused</th>\n",
       "      <th>Reused_Count</th>\n",
       "      <th>date_utc</th>\n",
       "      <th>Flight_Number</th>\n",
       "      <th>Class</th>\n",
       "    </tr>\n",
       "  </thead>\n",
       "  <tbody>\n",
       "    <tr>\n",
       "      <th>18</th>\n",
       "      <td>2015-06-28</td>\n",
       "      <td>14:21:00</td>\n",
       "      <td>Falcon 9</td>\n",
       "      <td>B1018</td>\n",
       "      <td>CCSFS SLC-40</td>\n",
       "      <td>CCSFS</td>\n",
       "      <td>SLC-40</td>\n",
       "      <td>-80.577366</td>\n",
       "      <td>28.561857</td>\n",
       "      <td>SpaceX CRS-7</td>\n",
       "      <td>2477.0</td>\n",
       "      <td>NASA (CRS)</td>\n",
       "      <td>ISS</td>\n",
       "      <td>None ASDS</td>\n",
       "      <td>Failure</td>\n",
       "      <td>Precluded</td>\n",
       "      <td>5e9e3032383ecb6bb234e7ca</td>\n",
       "      <td>1.0</td>\n",
       "      <td>1.0</td>\n",
       "      <td>True</td>\n",
       "      <td>True</td>\n",
       "      <td>False</td>\n",
       "      <td>0.0</td>\n",
       "      <td>2015-06-28 14:21:00+00:00</td>\n",
       "      <td>19</td>\n",
       "      <td>0</td>\n",
       "    </tr>\n",
       "    <tr>\n",
       "      <th>31</th>\n",
       "      <td>2017-03-30</td>\n",
       "      <td>22:27:00</td>\n",
       "      <td>Falcon 9</td>\n",
       "      <td>B1021</td>\n",
       "      <td>KSC LC-39A</td>\n",
       "      <td>KSC</td>\n",
       "      <td>LC-39A</td>\n",
       "      <td>-80.603956</td>\n",
       "      <td>28.608058</td>\n",
       "      <td>SES-10</td>\n",
       "      <td>5300.0</td>\n",
       "      <td>SES</td>\n",
       "      <td>GTO</td>\n",
       "      <td>True ASDS</td>\n",
       "      <td>Success</td>\n",
       "      <td>Success</td>\n",
       "      <td>5e9e3032383ecb6bb234e7ca</td>\n",
       "      <td>2.0</td>\n",
       "      <td>2.0</td>\n",
       "      <td>True</td>\n",
       "      <td>True</td>\n",
       "      <td>True</td>\n",
       "      <td>1.0</td>\n",
       "      <td>2017-03-30 22:27:00+00:00</td>\n",
       "      <td>32</td>\n",
       "      <td>1</td>\n",
       "    </tr>\n",
       "    <tr>\n",
       "      <th>68</th>\n",
       "      <td>2019-03-02</td>\n",
       "      <td>07:49:00</td>\n",
       "      <td>Falcon 9</td>\n",
       "      <td>B1051</td>\n",
       "      <td>KSC LC-39A</td>\n",
       "      <td>KSC</td>\n",
       "      <td>LC-39A</td>\n",
       "      <td>-80.603956</td>\n",
       "      <td>28.608058</td>\n",
       "      <td>Crew Dragon Demo-1</td>\n",
       "      <td>12259.0</td>\n",
       "      <td>NASA (CCtCap)</td>\n",
       "      <td>ISS</td>\n",
       "      <td>True ASDS</td>\n",
       "      <td>Success</td>\n",
       "      <td>Success</td>\n",
       "      <td>5e9e3032383ecb6bb234e7ca</td>\n",
       "      <td>5.0</td>\n",
       "      <td>1.0</td>\n",
       "      <td>True</td>\n",
       "      <td>True</td>\n",
       "      <td>False</td>\n",
       "      <td>12.0</td>\n",
       "      <td>2019-03-02 07:45:00+00:00</td>\n",
       "      <td>69</td>\n",
       "      <td>1</td>\n",
       "    </tr>\n",
       "    <tr>\n",
       "      <th>63</th>\n",
       "      <td>2018-12-03</td>\n",
       "      <td>18:34:05</td>\n",
       "      <td>Falcon 9</td>\n",
       "      <td>B1046</td>\n",
       "      <td>VAFB SLC-4E</td>\n",
       "      <td>VAFB</td>\n",
       "      <td>SLC-4E</td>\n",
       "      <td>-120.610829</td>\n",
       "      <td>34.632093</td>\n",
       "      <td>SSO-A</td>\n",
       "      <td>4000.0</td>\n",
       "      <td>Spaceflight Industries, Inc</td>\n",
       "      <td>SSO</td>\n",
       "      <td>True ASDS</td>\n",
       "      <td>Success</td>\n",
       "      <td>Success</td>\n",
       "      <td>5e9e3033383ecbb9e534e7cc</td>\n",
       "      <td>5.0</td>\n",
       "      <td>3.0</td>\n",
       "      <td>True</td>\n",
       "      <td>True</td>\n",
       "      <td>True</td>\n",
       "      <td>3.0</td>\n",
       "      <td>2018-12-03 18:34:00+00:00</td>\n",
       "      <td>64</td>\n",
       "      <td>1</td>\n",
       "    </tr>\n",
       "    <tr>\n",
       "      <th>24</th>\n",
       "      <td>2016-05-27</td>\n",
       "      <td>21:39:00</td>\n",
       "      <td>Falcon 9</td>\n",
       "      <td>B1023</td>\n",
       "      <td>CCSFS SLC-40</td>\n",
       "      <td>CCSFS</td>\n",
       "      <td>SLC-40</td>\n",
       "      <td>-80.577366</td>\n",
       "      <td>28.561857</td>\n",
       "      <td>Thaicom 8</td>\n",
       "      <td>3100.0</td>\n",
       "      <td>Thaicom</td>\n",
       "      <td>GTO</td>\n",
       "      <td>True ASDS</td>\n",
       "      <td>Success</td>\n",
       "      <td>Success</td>\n",
       "      <td>5e9e3032383ecb6bb234e7ca</td>\n",
       "      <td>2.0</td>\n",
       "      <td>1.0</td>\n",
       "      <td>True</td>\n",
       "      <td>True</td>\n",
       "      <td>False</td>\n",
       "      <td>1.0</td>\n",
       "      <td>2016-05-27 21:39:00+00:00</td>\n",
       "      <td>25</td>\n",
       "      <td>1</td>\n",
       "    </tr>\n",
       "  </tbody>\n",
       "</table>\n",
       "</div>"
      ],
      "text/plain": [
       "         Date Time (UTC) Booster_Version Serial   Launch_Site Facility  \\\n",
       "18 2015-06-28   14:21:00        Falcon 9  B1018  CCSFS SLC-40    CCSFS   \n",
       "31 2017-03-30   22:27:00        Falcon 9  B1021    KSC LC-39A      KSC   \n",
       "68 2019-03-02   07:49:00        Falcon 9  B1051    KSC LC-39A      KSC   \n",
       "63 2018-12-03   18:34:05        Falcon 9  B1046   VAFB SLC-4E     VAFB   \n",
       "24 2016-05-27   21:39:00        Falcon 9  B1023  CCSFS SLC-40    CCSFS   \n",
       "\n",
       "   Complex   Longitude   Latitude             Payload  Payload_Mass  \\\n",
       "18  SLC-40  -80.577366  28.561857        SpaceX CRS-7        2477.0   \n",
       "31  LC-39A  -80.603956  28.608058              SES-10        5300.0   \n",
       "68  LC-39A  -80.603956  28.608058  Crew Dragon Demo-1       12259.0   \n",
       "63  SLC-4E -120.610829  34.632093               SSO-A        4000.0   \n",
       "24  SLC-40  -80.577366  28.561857           Thaicom 8        3100.0   \n",
       "\n",
       "                       Customer Orbit Mission_Outcome Launch_Outcome  \\\n",
       "18                   NASA (CRS)   ISS       None ASDS        Failure   \n",
       "31                          SES   GTO       True ASDS        Success   \n",
       "68                NASA (CCtCap)   ISS       True ASDS        Success   \n",
       "63  Spaceflight Industries, Inc   SSO       True ASDS        Success   \n",
       "24                      Thaicom   GTO       True ASDS        Success   \n",
       "\n",
       "   Booster_Landing               Landing_Pad Block  Flights GridFins  Legs  \\\n",
       "18       Precluded  5e9e3032383ecb6bb234e7ca   1.0      1.0     True  True   \n",
       "31         Success  5e9e3032383ecb6bb234e7ca   2.0      2.0     True  True   \n",
       "68         Success  5e9e3032383ecb6bb234e7ca   5.0      1.0     True  True   \n",
       "63         Success  5e9e3033383ecbb9e534e7cc   5.0      3.0     True  True   \n",
       "24         Success  5e9e3032383ecb6bb234e7ca   2.0      1.0     True  True   \n",
       "\n",
       "   Reused  Reused_Count                  date_utc  Flight_Number  Class  \n",
       "18  False           0.0 2015-06-28 14:21:00+00:00             19      0  \n",
       "31   True           1.0 2017-03-30 22:27:00+00:00             32      1  \n",
       "68  False          12.0 2019-03-02 07:45:00+00:00             69      1  \n",
       "63   True           3.0 2018-12-03 18:34:00+00:00             64      1  \n",
       "24  False           1.0 2016-05-27 21:39:00+00:00             25      1  "
      ]
     },
     "execution_count": 78,
     "metadata": {},
     "output_type": "execute_result"
    }
   ],
   "source": [
    "df.sample(5)"
   ]
  },
  {
   "cell_type": "markdown",
   "metadata": {},
   "source": [
    "### TASK 6: Save the df in a CSV, JSON and a PKL"
   ]
  },
  {
   "cell_type": "markdown",
   "metadata": {},
   "source": [
    "The dataset shall be exported to **CSV**, **JSON** and **Pickle** files for the subsequent sections.\n",
    "\n"
   ]
  },
  {
   "cell_type": "code",
   "execution_count": 79,
   "metadata": {},
   "outputs": [],
   "source": [
    "# save as CSV file \n",
    "csv_file = os.path.join(INTERIM_DATA_DIR, \"dataset_part_2.csv\")\n",
    "df.to_csv(csv_file, index=False)\n",
    "\n",
    "# save as JSON file\n",
    "json_file = os.path.join(INTERIM_DATA_DIR, \"dataset_part_2.json\")\n",
    "df.to_json(json_file, orient='records', lines=True)\n",
    "\n",
    "# save as Pickle file\n",
    "pickle_file= os.path.join(INTERIM_DATA_DIR, 'dataset_part_2.pkl')\n",
    "df.to_pickle(pickle_file)"
   ]
  },
  {
   "cell_type": "markdown",
   "metadata": {},
   "source": [
    "Copyright © 2021 IBM Corporation. All rights reserved.\n"
   ]
  }
 ],
 "metadata": {
  "kernelspec": {
   "display_name": "Python 3 (ipykernel)",
   "language": "python",
   "name": "python3"
  },
  "language_info": {
   "codemirror_mode": {
    "name": "ipython",
    "version": 3
   },
   "file_extension": ".py",
   "mimetype": "text/x-python",
   "name": "python",
   "nbconvert_exporter": "python",
   "pygments_lexer": "ipython3",
   "version": "3.12.9"
  }
 },
 "nbformat": 4,
 "nbformat_minor": 4
}
