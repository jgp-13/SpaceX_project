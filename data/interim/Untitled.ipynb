{
 "cells": [
  {
   "cell_type": "code",
   "execution_count": 1,
   "id": "79954ae2-743a-476c-9ab3-052e62960371",
   "metadata": {},
   "outputs": [
    {
     "ename": "ModuleNotFoundError",
     "evalue": "No module named 'space_x'",
     "output_type": "error",
     "traceback": [
      "\u001b[1;31m---------------------------------------------------------------------------\u001b[0m",
      "\u001b[1;31mModuleNotFoundError\u001b[0m                       Traceback (most recent call last)",
      "Cell \u001b[1;32mIn[1], line 1\u001b[0m\n\u001b[1;32m----> 1\u001b[0m \u001b[38;5;28;01mimport\u001b[39;00m\u001b[38;5;250m \u001b[39m\u001b[38;5;21;01mspace_x\u001b[39;00m\n",
      "\u001b[1;31mModuleNotFoundError\u001b[0m: No module named 'space_x'"
     ]
    }
   ],
   "source": [
    "import space_x"
   ]
  },
  {
   "cell_type": "code",
   "execution_count": 2,
   "id": "d15eecd3-2cea-43de-9629-61a856546aae",
   "metadata": {},
   "outputs": [
    {
     "name": "stdout",
     "output_type": "stream",
     "text": [
      "C:\\Users\\josue\\Documents\\data_analysis_projects\\python\\Space_X\\data\\interim\n",
      "['.ipynb_checkpoints', 'dataset_part_1.csv', 'dataset_part_1.pkl', 'dataset_part_2.csv', 'dataset_part_2.pkl', 'Spacex.csv', 'spacex_web_scraped.csv', 'spacex_web_scraped.json', 'spacex_web_scraped.pkl', 'Untitled.ipynb']\n"
     ]
    }
   ],
   "source": [
    "import os\n",
    "print(os.getcwd())  # Check current working directory\n",
    "print(os.listdir())  # List files and directories in the current path"
   ]
  },
  {
   "cell_type": "code",
   "execution_count": 3,
   "id": "bd9c89cd-e9bb-4277-a323-630d15ae53c3",
   "metadata": {},
   "outputs": [
    {
     "name": "stdout",
     "output_type": "stream",
     "text": [
      "['C:\\\\Users\\\\josue\\\\miniconda3\\\\envs\\\\spacex_env\\\\python312.zip', 'C:\\\\Users\\\\josue\\\\miniconda3\\\\envs\\\\spacex_env\\\\DLLs', 'C:\\\\Users\\\\josue\\\\miniconda3\\\\envs\\\\spacex_env\\\\Lib', 'C:\\\\Users\\\\josue\\\\miniconda3\\\\envs\\\\spacex_env', '', 'C:\\\\Users\\\\josue\\\\miniconda3\\\\envs\\\\spacex_env\\\\Lib\\\\site-packages', 'C:\\\\Users\\\\josue\\\\miniconda3\\\\envs\\\\spacex_env\\\\Lib\\\\site-packages\\\\win32', 'C:\\\\Users\\\\josue\\\\miniconda3\\\\envs\\\\spacex_env\\\\Lib\\\\site-packages\\\\win32\\\\lib', 'C:\\\\Users\\\\josue\\\\miniconda3\\\\envs\\\\spacex_env\\\\Lib\\\\site-packages\\\\Pythonwin', 'C:\\\\Users\\\\josue\\\\Documents\\\\data_analysis_projects\\\\python\\\\Space_X']\n"
     ]
    }
   ],
   "source": [
    "import sys\n",
    "import os\n",
    "\n",
    "# Get the absolute path of your Space_X directory\n",
    "project_root = os.path.abspath(\"C:/Users/josue/Documents/data_analysis_projects/python/Space_X\")\n",
    "\n",
    "# Append to sys.path\n",
    "sys.path.append(project_root)\n",
    "\n",
    "# Confirm the path is added\n",
    "print(sys.path)\n"
   ]
  },
  {
   "cell_type": "code",
   "execution_count": 1,
   "id": "2f794191-03eb-4fe3-9ecf-69d7016f7aa5",
   "metadata": {},
   "outputs": [
    {
     "ename": "ModuleNotFoundError",
     "evalue": "No module named 'space_x'",
     "output_type": "error",
     "traceback": [
      "\u001b[1;31m---------------------------------------------------------------------------\u001b[0m",
      "\u001b[1;31mModuleNotFoundError\u001b[0m                       Traceback (most recent call last)",
      "Cell \u001b[1;32mIn[1], line 1\u001b[0m\n\u001b[1;32m----> 1\u001b[0m \u001b[38;5;28;01mimport\u001b[39;00m\u001b[38;5;250m \u001b[39m\u001b[38;5;21;01mspace_x\u001b[39;00m\n",
      "\u001b[1;31mModuleNotFoundError\u001b[0m: No module named 'space_x'"
     ]
    }
   ],
   "source": [
    "import space_x"
   ]
  },
  {
   "cell_type": "code",
   "execution_count": 5,
   "id": "e08a206c-2eff-4470-a9cd-203fa90ad695",
   "metadata": {},
   "outputs": [
    {
     "name": "stdout",
     "output_type": "stream",
     "text": [
      "Module 'space_x' found!\n"
     ]
    }
   ],
   "source": [
    "import importlib.util\n",
    "\n",
    "module_name = \"space_x\"\n",
    "module_spec = importlib.util.find_spec(module_name)\n",
    "\n",
    "if module_spec:\n",
    "    print(f\"Module '{module_name}' found!\")\n",
    "else:\n",
    "    print(f\"Module '{module_name}' NOT found!\")\n"
   ]
  },
  {
   "cell_type": "code",
   "execution_count": 6,
   "id": "cfa52c10-89cf-4973-b857-e19ef2c48dfd",
   "metadata": {},
   "outputs": [
    {
     "name": "stdout",
     "output_type": "stream",
     "text": [
      "True\n"
     ]
    }
   ],
   "source": [
    "print(os.path.exists(\"C:/Users/josue/Documents/data_analysis_projects/python/Space_X/space_x/__init__.py\"))\n"
   ]
  },
  {
   "cell_type": "code",
   "execution_count": null,
   "id": "db8f7089-eb2a-406c-8509-59d5ab026b93",
   "metadata": {},
   "outputs": [],
   "source": []
  }
 ],
 "metadata": {
  "kernelspec": {
   "display_name": "Python (spacex_env)",
   "language": "python",
   "name": "spacex_env"
  },
  "language_info": {
   "codemirror_mode": {
    "name": "ipython",
    "version": 3
   },
   "file_extension": ".py",
   "mimetype": "text/x-python",
   "name": "python",
   "nbconvert_exporter": "python",
   "pygments_lexer": "ipython3",
   "version": "3.12.9"
  }
 },
 "nbformat": 4,
 "nbformat_minor": 5
}
